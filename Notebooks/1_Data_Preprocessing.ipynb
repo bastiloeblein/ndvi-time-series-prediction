{
 "cells": [
  {
   "cell_type": "markdown",
   "id": "2e2bac00-4f32-40d8-9d57-80177e9bf623",
   "metadata": {},
   "source": [
    "# Data Preprocessing\n",
    "\n",
    "## Overview\n",
    "\n",
    "This notebook outlines the complete workflow for processing NDVI (Normalized Difference Vegetation Index) data from the deep-extremes-minicubes dataset provided by the [Remote Sensing Centre for Earth System Research](http://data.rsc4earth.de/deep_extremes/deepextremes-minicubes/). The steps include data preprocessing, dataset initialization, data processing, and sanity checks. Additionally, we perform a train/test split based on the analysis of missing values and implement strategies to handle these missing values, preparing the data for training.\n",
    "\n",
    "### DeepExtremes Minicubes\n",
    "\n",
    "The DeepExtremes project provides a dataset of minicubes, which are small, manageable data cubes that contain various types of remote sensing data. Each minicube is a 3D array with dimensions (495 x 128 x 128) representing time, latitude, and longitude, and they are designed to facilitate the study of extreme events and their impacts on the Earth system.\n",
    "\n",
    "#### Key Features of the Minicubes:\n",
    "- **Spatial Resolution:** Each minicube covers an area with a spatial resolution of 20 meters.\n",
    "- **Temporal Coverage:** Data spans from January 1, 2016, to October 10, 2022, with a time resolution of 5 days.\n",
    "- **Spectral Bands:** The minicubes include reflectance data from several Sentinel-2 spectral bands (B02, B03, B04, B05, B06, B07, B8A), as well as additional layers such as the Scene Classification Layer (SCL) and cloud masks.\n",
    "- **Additional Variables:** ERA5 reanalysis data (e.g., evaporation, surface pressure, temperature), DEM (Digital Elevation Model) data, and event labels for extreme occurrences.\n",
    "\n",
    "Each minicube is rich with metadata, including details on the geographic location, creation date, data processing steps, and variable-specific attributes. This metadata ensures the data's integrity, traceability, and usability for scientific analysis.\n",
    "\n",
    "### Description and Overview\n",
    "\n",
    "#### 1. Data Import\n",
    "- **Import Data:** The dataset is imported from an S3 bucket using AWS credentials.\n",
    "- **Remove Invalid Cubes:** Cubes with invalid data are filtered out.\n",
    "- **Data Distribution:** Cubes are split into training, validation, and test sets based on a predefined split table.\n",
    "\n",
    "#### 2. Dataset Initialization\n",
    "- **Initialize Dataset:** The dataset is initialized with minicubes, each having dimensions of 495 (time periods) x 128 x 128 (pixels).\n",
    "- **NDVI Calculation:** The Python class that initializes the dataset calculates the NDVI for each pixel, derived from the spectral bands B8A (near-infrared) and B04 (red).\n",
    "\n",
    "#### 3. Data Processing\n",
    "- **Chunking Data:** Data is processed in chunks to prevent memory overflow.\n",
    "- **NDVI Preprocessing:** NDVI values are preprocessed, and pixels with an average NDVI below 0.2 are masked.\n",
    "- **Data Saving:** Processed data is saved in float32 format to save memory.\n",
    "\n",
    "#### 4. Sanity Checks\n",
    "- **Cube Integrity:** Verify the shape and dimensions of each cube.\n",
    "- **NDVI Distribution:** Analyze the distribution of NDVI values.\n",
    "- **Low NDVI Values:** Ensure no pixels have an average NDVI below 0.2.\n",
    "- **Cube Class Comparison:** Compare cube classes with NDVI values and masked values.\n",
    "\n",
    "#### 5. Train/Test Split\n",
    "- **Identify Suitable Starting Date:** Determine the starting date for training data and set the time period for train and test data.\n",
    "- **Perform Train and Test Split:** Split the data into training and test sets and save it to the appropriate directories.\n",
    "\n",
    "#### 6. Handling of Missing Data\n",
    "- **Approach A:** Handling NaNs with Outliers and Cloud Mask Integration\n",
    "- **Approach B:** Interpolation with STL Decomposition\n"
   ]
  },
  {
   "cell_type": "markdown",
   "id": "6fcc0cf5-fe9d-4df5-a425-27ab180acbf3",
   "metadata": {},
   "source": [
    "## Data Import \n",
    "\n",
    "First we import the necessary packages and the deep-extremes-minicubes dataset from the S3 Bucket, remove invalid cubes and split the dataset."
   ]
  },
  {
   "cell_type": "code",
   "execution_count": 1,
   "id": "7cc2b0da-ec40-44c4-a1d4-577939f6f2b8",
   "metadata": {
    "tags": []
   },
   "outputs": [
    {
     "name": "stdout",
     "output_type": "stream",
     "text": [
      "/home/cgoehler/team-extra/ndvi-time-series-prediction\n"
     ]
    }
   ],
   "source": [
    "# Define base_dir for consistent path management\n",
    "from pathlib import Path\n",
    "import os\n",
    "\n",
    "notebook_dir = Path(os.getcwd()).resolve()\n",
    "\n",
    "base_dir = notebook_dir.parent \n",
    "\n",
    "print(base_dir)"
   ]
  },
  {
   "cell_type": "code",
   "execution_count": 30,
   "id": "a20b70d3-ae1d-40e6-ad55-1812677d2742",
   "metadata": {
    "tags": []
   },
   "outputs": [],
   "source": [
    "# Import necessary packages and custom functions\n",
    "import sys\n",
    "sys.path.insert(0, os.path.join(base_dir, \"src\", \"data_processing\"))\n",
    "import s3fs\n",
    "import itertools\n",
    "import zarr\n",
    "import math\n",
    "import numpy as np\n",
    "import matplotlib.pyplot as plt\n",
    "import xarray as xr\n",
    "import numpy as np\n",
    "from import_cubes import *\n",
    "from helper import *\n",
    "import torch\n",
    "from my_loader import DeepCubeTSDatasetBasti\n",
    "from process_ndvi import *\n",
    "from sanity_checks import *\n",
    "from stl_interpolation import *\n",
    "from statsmodels.tsa.seasonal import STL"
   ]
  },
  {
   "cell_type": "code",
   "execution_count": 20,
   "id": "dd1c4bac-04cb-4216-ae3e-e298d42eedfa",
   "metadata": {
    "tags": []
   },
   "outputs": [],
   "source": [
    "# AWS Credentials"
   ]
  },
  {
   "cell_type": "code",
   "execution_count": 21,
   "id": "d9641f93-39a5-4e2a-8171-8bda5ec27a9f",
   "metadata": {
    "tags": []
   },
   "outputs": [],
   "source": [
    "# Initialize S3FileSystem\n",
    "minicubefs = s3fs.S3FileSystem(key=AWS_ACCESS_KEY_ID, secret=AWS_SECRET_ACCESS_KEY)"
   ]
  },
  {
   "cell_type": "code",
   "execution_count": 22,
   "id": "6f265b3e-ce29-4aa5-ac1d-78a774aaa787",
   "metadata": {
    "tags": []
   },
   "outputs": [
    {
     "data": {
      "text/plain": [
       "(5593, 1)"
      ]
     },
     "execution_count": 22,
     "metadata": {},
     "output_type": "execute_result"
    }
   ],
   "source": [
    "# Read registry from S3FileSystem\n",
    "bucket_path = \"s3://deepextremes-minicubes/1.2.2\"\n",
    "registry_df = read_registry(bucket_path, minicubefs)\n",
    "registry_df.shape"
   ]
  },
  {
   "cell_type": "code",
   "execution_count": 23,
   "id": "a4a84858-3863-4dd7-a5c2-655bb5d80adc",
   "metadata": {
    "tags": []
   },
   "outputs": [
    {
     "name": "stdout",
     "output_type": "stream",
     "text": [
      "Initial number of Cubes:  5593\n",
      "Number of Cubes after removal:  5397\n"
     ]
    }
   ],
   "source": [
    "# Remove bad cubes\n",
    "print(\"Initial number of Cubes: \", registry_df.shape[0])\n",
    "registry_df_filtered = remove_cubes(registry_df)\n",
    "print(\"Number of Cubes after removal: \", registry_df_filtered.shape[0])"
   ]
  },
  {
   "cell_type": "markdown",
   "id": "59b94322-0df3-48c5-a8c4-a690b761173c",
   "metadata": {},
   "source": [
    "To ensure a balanced data distribution over the entire globe while reducing the total number of cubes, we use the split provided in the split_table.csv file. \\\n",
    "Subsequently, we will only utilize the cubes within the trainingset. Since this is a time-series prediction, our train/validation/test split will be applied separately to each cube by splitting the time series of each cube individually."
   ]
  },
  {
   "cell_type": "code",
   "execution_count": 32,
   "id": "5c489703-e2cd-4ba0-85de-5b64f3a42a5e",
   "metadata": {
    "tags": []
   },
   "outputs": [
    {
     "name": "stderr",
     "output_type": "stream",
     "text": [
      "/home/bastiloeblein/team-extra/ndvi-time-series-prediction/Notebooks/../src/data_processing/import_cubes.py:88: SettingWithCopyWarning: \n",
      "A value is trying to be set on a copy of a slice from a DataFrame.\n",
      "Try using .loc[row_indexer,col_indexer] = value instead\n",
      "\n",
      "See the caveats in the documentation: https://pandas.pydata.org/pandas-docs/stable/user_guide/indexing.html#returning-a-view-versus-a-copy\n",
      "  cube_registry[\"mc_id\"] = cube_registry[\"mc_id\"].apply(preprocess_mc_id)\n"
     ]
    }
   ],
   "source": [
    "# Split cubes in training, validation and testset\n",
    "split_table_path = base_dir / \"csvs\" / \"split_table.csv\"\n",
    "traincubes, valcubes, testcubes = split_datasets(\n",
    "    cube_registry=registry_df_filtered, split_table_path=split_table_path\n",
    ")"
   ]
  },
  {
   "cell_type": "code",
   "execution_count": 33,
   "id": "8897fb40-2769-4b2f-b5d5-fed24ab9b08b",
   "metadata": {
    "tags": []
   },
   "outputs": [
    {
     "name": "stdout",
     "output_type": "stream",
     "text": [
      "Number of entries in the training dataset: 3052\n",
      "Number of entries in the validation dataset: 666\n",
      "Number of entries in the test dataset: 97\n"
     ]
    }
   ],
   "source": [
    "print(f\"Number of entries in the training dataset: {len(traincubes)}\")\n",
    "print(f\"Number of entries in the validation dataset: {len(valcubes)}\")\n",
    "print(f\"Number of entries in the test dataset: {len(testcubes)}\")"
   ]
  },
  {
   "cell_type": "code",
   "execution_count": 34,
   "id": "2173485b-bfe7-48e1-ade7-5492f17b1090",
   "metadata": {
    "tags": []
   },
   "outputs": [],
   "source": [
    "# Define the S3 bucket name\n",
    "s3_bucket = \"deepextremes-minicubes/1.2.2\""
   ]
  },
  {
   "cell_type": "code",
   "execution_count": 35,
   "id": "0e4e2eb5-d186-4840-985c-f29ade682b35",
   "metadata": {
    "tags": []
   },
   "outputs": [],
   "source": [
    "# Get quantile data\n",
    "quantile_data = get_var_quantiles()\n",
    "# dict(itertools.islice(quantile_data.items(), 1))"
   ]
  },
  {
   "cell_type": "markdown",
   "id": "660174f4-d6b7-402f-80c0-605a14a32253",
   "metadata": {},
   "source": [
    "## Dataset Initialization\n",
    "\n",
    "We initialize the dataset containing minicubes (each with dimension 495 (time periods) x 128 x 128 (pixels)) with additional information on pixel-wise NDVI and cube classes (e.g. soil, meadow).\n"
   ]
  },
  {
   "cell_type": "markdown",
   "id": "0f38c906-cd5e-49e8-80b5-7474ec28e2ba",
   "metadata": {},
   "source": [
    "Due to data quality and memory problems we decided to only use 100 cubes. Therefore we identified the 100 cubes, which have the most time periods containing >80% pixels with not nan values."
   ]
  },
  {
   "cell_type": "code",
   "execution_count": 42,
   "id": "83397ca7-e477-40d2-8890-53ebe5c04a3a",
   "metadata": {
    "tags": []
   },
   "outputs": [],
   "source": [
    "valid_cubes_path = base_dir / \"csvs\" / \"Final_Cubes.csv\"\n",
    "valid_df =pd.read_csv(valid_cubes_path, sep = \";\")\n",
    "valid_indices = valid_df[\"Cube_ID\"].to_list()"
   ]
  },
  {
   "cell_type": "code",
   "execution_count": 38,
   "id": "3fb5990e-e200-4784-9037-7ec3ab6e693b",
   "metadata": {
    "tags": []
   },
   "outputs": [],
   "source": [
    "# Initialize dataset\n",
    "dataset = DeepCubeTSDatasetBasti(\n",
    "    minicubefs, bucket_path, traincubes, quantile_data, valid_indices\n",
    ")"
   ]
  },
  {
   "cell_type": "code",
   "execution_count": 39,
   "id": "03059224-3942-4f21-96e5-af9ea6b800a8",
   "metadata": {
    "tags": []
   },
   "outputs": [
    {
     "data": {
      "text/plain": [
       "<bound method DeepCubeTSDatasetBasti.__repr__ of <(128 * 128 data points per cube): 16.384 * 100 (number of cubes) = 1638400 (Total number of data points)>>"
      ]
     },
     "execution_count": 39,
     "metadata": {},
     "output_type": "execute_result"
    }
   ],
   "source": [
    "dataset.__repr__"
   ]
  },
  {
   "cell_type": "markdown",
   "id": "bc3155ed-ca99-442b-b364-aa6c592d1920",
   "metadata": {},
   "source": [
    "## Data Processing\n",
    "\n",
    "The data is processed in chunks to manage memory usage. \n",
    "\n",
    "NDVI values are preprocessed to mask pixels where NDVI prediction is not meaningful (e.g. pixels that do not contain any vegetation). Therefore, we will mask pixels that have an average NDVI value below 0.2 (https://earthobservatory.nasa.gov/features/MeasuringVegetation) over the entire time period."
   ]
  },
  {
   "cell_type": "code",
   "execution_count": null,
   "id": "461eb585-da59-40bc-9388-cb4e2333cb0c",
   "metadata": {
    "tags": []
   },
   "outputs": [],
   "source": [
    "# Initialize an empty dictionary to store the NDVI data\n",
    "ndvi_data = {}\n",
    "\n",
    "# Process the cubes for the valid indices\n",
    "for i in valid_indices:\n",
    "    print(i)\n",
    "    ndvi_tensor, cloudmask_tensor, lat, lon, cube_class = dataset.__getitem__(i)\n",
    "    \n",
    "    # Calculate the average NDVI for each pixel\n",
    "    average_ndvi = calculate_average_ndvi_for_each_pixel(ndvi_tensor)\n",
    "\n",
    "    # Mask low NDVI values\n",
    "    ndvi_masked = mask_low_ndvi_values(average_ndvi, ndvi_tensor)\n",
    "\n",
    "    # Convert the PyTorch tensors to NumPy arrays\n",
    "    ndvi_data = ndvi_masked.numpy()\n",
    "    cloud_mask_data = cloudmask_tensor.numpy()\n",
    "    \n",
    "    # Replace all -9999.0 values with NaN in the NDVI data\n",
    "    ndvi_data = np.where(ndvi_data == -9999.0, np.nan, ndvi_data)\n",
    "\n",
    "    # Generate the dates\n",
    "    dates = pd.date_range(start='2016-01-01', periods=495, freq='5D')\n",
    "    \n",
    "    # Create xarray DataArrays\n",
    "    ndvi = xr.DataArray(ndvi_data, coords=[dates, range(128), range(128)], dims=['time', 'x', 'y'], name='NDVI')\n",
    "    cloud_mask = xr.DataArray(cloud_mask_data, coords=[dates, range(128), range(128)], dims=['time', 'x', 'y'], name='Cloud_Mask')\n",
    "    \n",
    "    # Combine into a Dataset\n",
    "    data = xr.Dataset({\n",
    "        'NDVI': ndvi,\n",
    "        'Cloud_Mask': cloud_mask\n",
    "    })\n",
    "\n",
    "\n",
    "    # Add lat and lon as attributes\n",
    "    data.attrs['lat'] = lat\n",
    "    data.attrs['lon'] = lon\n",
    "    data.attrs['class'] = cube_class\n",
    "\n",
    "    # Add metadata to the variables and dataset\n",
    "    data['NDVI'].attrs['description'] = 'Normalized Difference Vegetation Index'\n",
    "    data['Cloud_Mask'].attrs['description'] = 'Cloud Mask (0=clear, 1=cloudy)'\n",
    "    data.attrs['source'] = f'Cube_{i}'\n",
    "\n",
    "    # Save to NetCDF\n",
    "    save_dir = base_dir / \"data\" / \"data_final_updated\"\n",
    "    data.to_netcdf(save_dir / f'Cube_{i}.nc')\n",
    "\n",
    "\n"
   ]
  },
  {
   "cell_type": "code",
   "execution_count": null,
   "id": "9267045d-b9fc-400e-aa4c-e0cd967011b2",
   "metadata": {
    "tags": []
   },
   "outputs": [],
   "source": [
    "data"
   ]
  },
  {
   "cell_type": "markdown",
   "id": "9e1e8892-a2e0-4e34-822f-6fbebe784e21",
   "metadata": {
    "tags": []
   },
   "source": [
    "### Sanity Checks\n",
    "\n",
    "At last we conduct some sanity checks:\n",
    "\n",
    "1. **Cube Integrity**:\n",
    "    Ensure that the shape and dimensions of each cube are consistent and correct.  \n",
    "    Verify that the number of time steps, rows, and columns match the expected dimensions.\n",
    "    \n",
    "2. **Distribution of NDVI Values**:\n",
    "    Analyze the distribution of NDVI values to ensure they fall within the expected range [0, 1].  \n",
    "    Check for any unexpected outliers or anomalies in the data.\n",
    "    \n",
    "3. **No Pixels with Average NDVI Below 0.2**:\n",
    "    Ensure that there are no pixels with an average NDVI value below 0.2 over the entire time period.\n",
    "\n",
    "5. **Comparison with Cube Class**:\n",
    "    Compare the cube class with the overall average NDVI (considering all pixels and time periods).  \n",
    "    Additionally, compare the number of masked values with the cube class to check for consistency.\n"
   ]
  },
  {
   "cell_type": "code",
   "execution_count": null,
   "id": "ec63151b-c008-47b3-bfbd-71ae37cdac1e",
   "metadata": {
    "tags": []
   },
   "outputs": [],
   "source": [
    "# Lists to store errors\n",
    "error_list = []\n",
    "bad_cubes = []\n",
    "\n",
    "# Path to the directory with NDVI chunks\n",
    "data_dir = base_dir / \"data\" / \"data_final_updated\"\n",
    "data_list = os.listdir(data_dir)\n",
    "print(len(data_list))\n",
    "\n",
    "# Loop pver all NetCDF files\n",
    "for nc_file in data_list:\n",
    "    if nc_file.endswith('.nc'):\n",
    "        nc_path = os.path.join(data_dir, nc_file)\n",
    "        print(f\"Processing {nc_path}...\")\n",
    "\n",
    "        # Load the currend NetCDF file\n",
    "        data = xr.open_dataset(nc_path)\n",
    "        ndvi_data = data['NDVI'].values\n",
    "        \n",
    "        cube_class = data.attrs.get('class')\n",
    "        \n",
    "        # Expected shape of the NDVI cubes\n",
    "        expected_shape = (495, 128, 128)\n",
    "\n",
    "        try:\n",
    "            # Step 1: Check cube integrity\n",
    "            check_cube_integrity(ndvi_data, expected_shape)\n",
    "\n",
    "            # Step 2: Check the distribution of NDVI values\n",
    "            check_ndvi_distribution(ndvi_data)\n",
    "\n",
    "            # Step 3: Ensure no pixels have an average NDVI below 0.2 and calculate additional metrics\n",
    "            overall_avg_ndvi, num_masked_values = check_if_contains_low_values(ndvi_data)\n",
    "\n",
    "            print(f\"Cube {nc_file} - Class: {cube_class}, Overall Average NDVI: {overall_avg_ndvi}, Number of Masked Values: {num_masked_values}\")\n",
    "            print(f\"Cube {nc_file} passed all sanity checks.\\n\")\n",
    "\n",
    "        except AssertionError as e:\n",
    "            error_message = f\"Cube {nc_file} failed sanity check: {str(e)}\"\n",
    "            print(error_message)\n",
    "            error_list.append(error_message)\n",
    "        except Exception as e:\n",
    "            error_message = f\"Cube {nc_file} encountered an error: {str(e)}\"\n",
    "            print(error_message)\n",
    "            bad_cubes.append(nc_path)\n",
    "\n",
    "# Display all errors\n",
    "if error_list:\n",
    "    print(\"\\nSummary of errors:\")\n",
    "    for error in error_list:\n",
    "        print(error)\n",
    "else:\n",
    "    print(\"\\nAll cubes passed sanity checks.\")\n",
    "\n",
    "# Display list of all bad cubes\n",
    "if bad_cubes:\n",
    "    print(\"\\nList of bad cubes:\")\n",
    "    for bad_cube in bad_cubes:\n",
    "        print(bad_cube)"
   ]
  },
  {
   "cell_type": "markdown",
   "id": "879a6d1c-228b-4c3d-bf5a-654fdb52a20f",
   "metadata": {},
   "source": [
    "### Train/Test Split\n",
    "\n",
    "In this section, we will perform the train and test split for our time series data. Here’s a structured plan for what we will accomplish:\n",
    "\n",
    "1. **Identify Suitable Starting Date:**\n",
    "    - We have observed that the initial portion of our time series (particularly in the year 2016) contains a significant number of NaN values.\n",
    "    - To address this, we will conduct a brief analysis to determine an appropriate starting date for our time series prediction. This step is crucial to ensure we have sufficient data for effective interpolation especially at the beginning of our time series.\n",
    "\n",
    "2. **Perform Train/Test Split:**\n",
    "    - Once a reasonable starting date is identified, we will proceed to split the data into train and test sets.\n",
    "    - The train set will be used to train our model, while the test set will be used to evaluate its performance.\n",
    "\n",
    "By carefully selecting a starting point and splitting the data, we aim to enhance the accuracy and reliability of our time series predictions and interpolation of missing values."
   ]
  },
  {
   "cell_type": "markdown",
   "id": "8d145f2f-cc48-4d4e-b75d-1453b27a53d6",
   "metadata": {},
   "source": [
    "#### Identify Suitable Starting Date"
   ]
  },
  {
   "cell_type": "code",
   "execution_count": 45,
   "id": "b64ccd87-6824-4470-9dd1-341e8d86ff1a",
   "metadata": {
    "tags": []
   },
   "outputs": [
    {
     "name": "stdout",
     "output_type": "stream",
     "text": [
      "Number of files: 100\n"
     ]
    }
   ],
   "source": [
    "file_path = base_dir / \"data\" / \"data_final_updated\"\n",
    "nc_files = [file for file in os.listdir(file_path) if file.endswith('.nc')]\n",
    "print(f\"Number of files: {len(nc_files)}\")"
   ]
  },
  {
   "cell_type": "markdown",
   "id": "d6c4db0a-afb8-490a-92d6-7875dce39571",
   "metadata": {},
   "source": [
    "Upon analyzing our dataset, we observed that for the year 2016, there are only sporadic pixels containing NDVI values over all cubes, with the majority being NaNs. To ensure the quality and completeness of our data for time series prediction, we will exclude the year 2016 from our dataset."
   ]
  },
  {
   "cell_type": "code",
   "execution_count": 48,
   "id": "f0dddf11-182c-4474-a65b-d60d0225c1ca",
   "metadata": {
    "tags": []
   },
   "outputs": [
    {
     "name": "stdout",
     "output_type": "stream",
     "text": [
      "Date: 2016-01-01T00:00:00.000000000 - Number of non-NaN NDVI values: 0\n",
      "Date: 2016-01-06T00:00:00.000000000 - Number of non-NaN NDVI values: 0\n",
      "Date: 2016-01-11T00:00:00.000000000 - Number of non-NaN NDVI values: 0\n",
      "Date: 2016-01-16T00:00:00.000000000 - Number of non-NaN NDVI values: 0\n",
      "Date: 2016-01-21T00:00:00.000000000 - Number of non-NaN NDVI values: 0\n",
      "Date: 2016-01-26T00:00:00.000000000 - Number of non-NaN NDVI values: 0\n",
      "Date: 2016-01-31T00:00:00.000000000 - Number of non-NaN NDVI values: 0\n",
      "Date: 2016-02-05T00:00:00.000000000 - Number of non-NaN NDVI values: 0\n",
      "Date: 2016-02-10T00:00:00.000000000 - Number of non-NaN NDVI values: 0\n",
      "Date: 2016-02-15T00:00:00.000000000 - Number of non-NaN NDVI values: 0\n",
      "Date: 2016-02-20T00:00:00.000000000 - Number of non-NaN NDVI values: 0\n",
      "Date: 2016-02-25T00:00:00.000000000 - Number of non-NaN NDVI values: 0\n",
      "Date: 2016-03-01T00:00:00.000000000 - Number of non-NaN NDVI values: 0\n",
      "Date: 2016-03-06T00:00:00.000000000 - Number of non-NaN NDVI values: 0\n",
      "Date: 2016-03-11T00:00:00.000000000 - Number of non-NaN NDVI values: 0\n",
      "Date: 2016-03-16T00:00:00.000000000 - Number of non-NaN NDVI values: 0\n",
      "Date: 2016-03-21T00:00:00.000000000 - Number of non-NaN NDVI values: 0\n",
      "Date: 2016-03-26T00:00:00.000000000 - Number of non-NaN NDVI values: 0\n",
      "Date: 2016-03-31T00:00:00.000000000 - Number of non-NaN NDVI values: 0\n",
      "Date: 2016-04-05T00:00:00.000000000 - Number of non-NaN NDVI values: 0\n",
      "Date: 2016-04-10T00:00:00.000000000 - Number of non-NaN NDVI values: 0\n",
      "Date: 2016-04-15T00:00:00.000000000 - Number of non-NaN NDVI values: 0\n",
      "Date: 2016-04-20T00:00:00.000000000 - Number of non-NaN NDVI values: 0\n",
      "Date: 2016-04-25T00:00:00.000000000 - Number of non-NaN NDVI values: 0\n",
      "Date: 2016-04-30T00:00:00.000000000 - Number of non-NaN NDVI values: 0\n",
      "Date: 2016-05-05T00:00:00.000000000 - Number of non-NaN NDVI values: 0\n",
      "Date: 2016-05-10T00:00:00.000000000 - Number of non-NaN NDVI values: 0\n",
      "Date: 2016-05-15T00:00:00.000000000 - Number of non-NaN NDVI values: 0\n",
      "Date: 2016-05-20T00:00:00.000000000 - Number of non-NaN NDVI values: 0\n",
      "Date: 2016-05-25T00:00:00.000000000 - Number of non-NaN NDVI values: 0\n",
      "Date: 2016-05-30T00:00:00.000000000 - Number of non-NaN NDVI values: 0\n",
      "Date: 2016-06-04T00:00:00.000000000 - Number of non-NaN NDVI values: 0\n",
      "Date: 2016-06-09T00:00:00.000000000 - Number of non-NaN NDVI values: 0\n",
      "Date: 2016-06-14T00:00:00.000000000 - Number of non-NaN NDVI values: 0\n",
      "Date: 2016-06-19T00:00:00.000000000 - Number of non-NaN NDVI values: 0\n",
      "Date: 2016-06-24T00:00:00.000000000 - Number of non-NaN NDVI values: 0\n",
      "Date: 2016-06-29T00:00:00.000000000 - Number of non-NaN NDVI values: 0\n",
      "Date: 2016-07-04T00:00:00.000000000 - Number of non-NaN NDVI values: 0\n",
      "Date: 2016-07-09T00:00:00.000000000 - Number of non-NaN NDVI values: 0\n",
      "Date: 2016-07-14T00:00:00.000000000 - Number of non-NaN NDVI values: 0\n",
      "Date: 2016-07-19T00:00:00.000000000 - Number of non-NaN NDVI values: 0\n",
      "Date: 2016-07-24T00:00:00.000000000 - Number of non-NaN NDVI values: 0\n",
      "Date: 2016-07-29T00:00:00.000000000 - Number of non-NaN NDVI values: 0\n",
      "Date: 2016-08-03T00:00:00.000000000 - Number of non-NaN NDVI values: 0\n",
      "Date: 2016-08-08T00:00:00.000000000 - Number of non-NaN NDVI values: 0\n",
      "Date: 2016-08-13T00:00:00.000000000 - Number of non-NaN NDVI values: 0\n",
      "Date: 2016-08-18T00:00:00.000000000 - Number of non-NaN NDVI values: 0\n",
      "Date: 2016-08-23T00:00:00.000000000 - Number of non-NaN NDVI values: 0\n",
      "Date: 2016-08-28T00:00:00.000000000 - Number of non-NaN NDVI values: 0\n",
      "Date: 2016-09-02T00:00:00.000000000 - Number of non-NaN NDVI values: 0\n",
      "Date: 2016-09-07T00:00:00.000000000 - Number of non-NaN NDVI values: 0\n",
      "Date: 2016-09-12T00:00:00.000000000 - Number of non-NaN NDVI values: 0\n",
      "Date: 2016-09-17T00:00:00.000000000 - Number of non-NaN NDVI values: 0\n",
      "Date: 2016-09-22T00:00:00.000000000 - Number of non-NaN NDVI values: 0\n",
      "Date: 2016-09-27T00:00:00.000000000 - Number of non-NaN NDVI values: 0\n",
      "Date: 2016-10-02T00:00:00.000000000 - Number of non-NaN NDVI values: 0\n",
      "Date: 2016-10-07T00:00:00.000000000 - Number of non-NaN NDVI values: 0\n",
      "Date: 2016-10-12T00:00:00.000000000 - Number of non-NaN NDVI values: 0\n",
      "Date: 2016-10-17T00:00:00.000000000 - Number of non-NaN NDVI values: 0\n",
      "Date: 2016-10-22T00:00:00.000000000 - Number of non-NaN NDVI values: 0\n",
      "Date: 2016-10-27T00:00:00.000000000 - Number of non-NaN NDVI values: 0\n",
      "Date: 2016-11-01T00:00:00.000000000 - Number of non-NaN NDVI values: 735\n",
      "Date: 2016-11-06T00:00:00.000000000 - Number of non-NaN NDVI values: 15236\n",
      "Date: 2016-11-11T00:00:00.000000000 - Number of non-NaN NDVI values: 16074\n",
      "Date: 2016-11-16T00:00:00.000000000 - Number of non-NaN NDVI values: 29670\n",
      "Date: 2016-11-21T00:00:00.000000000 - Number of non-NaN NDVI values: 16149\n",
      "Date: 2016-11-26T00:00:00.000000000 - Number of non-NaN NDVI values: 1212\n",
      "Date: 2016-12-01T00:00:00.000000000 - Number of non-NaN NDVI values: 0\n",
      "Date: 2016-12-06T00:00:00.000000000 - Number of non-NaN NDVI values: 29670\n",
      "Date: 2016-12-11T00:00:00.000000000 - Number of non-NaN NDVI values: 63\n",
      "Date: 2016-12-16T00:00:00.000000000 - Number of non-NaN NDVI values: 455\n",
      "Date: 2016-12-21T00:00:00.000000000 - Number of non-NaN NDVI values: 0\n",
      "Date: 2016-12-26T00:00:00.000000000 - Number of non-NaN NDVI values: 29644\n",
      "Date: 2016-12-31T00:00:00.000000000 - Number of non-NaN NDVI values: 154887\n",
      "Date: 2017-01-05T00:00:00.000000000 - Number of non-NaN NDVI values: 258414\n",
      "Date: 2017-01-10T00:00:00.000000000 - Number of non-NaN NDVI values: 362279\n",
      "Date: 2017-01-15T00:00:00.000000000 - Number of non-NaN NDVI values: 813709\n",
      "Date: 2017-01-20T00:00:00.000000000 - Number of non-NaN NDVI values: 174809\n",
      "Date: 2017-01-25T00:00:00.000000000 - Number of non-NaN NDVI values: 1231339\n",
      "Date: 2017-01-30T00:00:00.000000000 - Number of non-NaN NDVI values: 638865\n",
      "Date: 2017-02-04T00:00:00.000000000 - Number of non-NaN NDVI values: 599125\n",
      "Date: 2017-02-09T00:00:00.000000000 - Number of non-NaN NDVI values: 441039\n",
      "Date: 2017-02-14T00:00:00.000000000 - Number of non-NaN NDVI values: 650624\n",
      "Date: 2017-02-19T00:00:00.000000000 - Number of non-NaN NDVI values: 485039\n",
      "Date: 2017-02-24T00:00:00.000000000 - Number of non-NaN NDVI values: 553548\n",
      "Date: 2017-03-01T00:00:00.000000000 - Number of non-NaN NDVI values: 290621\n",
      "Date: 2017-03-06T00:00:00.000000000 - Number of non-NaN NDVI values: 707662\n",
      "Date: 2017-03-11T00:00:00.000000000 - Number of non-NaN NDVI values: 617145\n",
      "Date: 2017-03-16T00:00:00.000000000 - Number of non-NaN NDVI values: 601657\n",
      "Date: 2017-03-21T00:00:00.000000000 - Number of non-NaN NDVI values: 297106\n",
      "Date: 2017-03-26T00:00:00.000000000 - Number of non-NaN NDVI values: 512963\n",
      "Date: 2017-03-31T00:00:00.000000000 - Number of non-NaN NDVI values: 460329\n",
      "Date: 2017-04-05T00:00:00.000000000 - Number of non-NaN NDVI values: 641623\n",
      "Date: 2017-04-10T00:00:00.000000000 - Number of non-NaN NDVI values: 186476\n",
      "Date: 2017-04-15T00:00:00.000000000 - Number of non-NaN NDVI values: 864421\n",
      "Date: 2017-04-20T00:00:00.000000000 - Number of non-NaN NDVI values: 539825\n",
      "Date: 2017-04-25T00:00:00.000000000 - Number of non-NaN NDVI values: 332112\n",
      "Date: 2017-04-30T00:00:00.000000000 - Number of non-NaN NDVI values: 413190\n",
      "Date: 2017-05-05T00:00:00.000000000 - Number of non-NaN NDVI values: 643990\n",
      "Date: 2017-05-10T00:00:00.000000000 - Number of non-NaN NDVI values: 527493\n",
      "Date: 2017-05-15T00:00:00.000000000 - Number of non-NaN NDVI values: 668972\n",
      "Date: 2017-05-20T00:00:00.000000000 - Number of non-NaN NDVI values: 418498\n",
      "Date: 2017-05-25T00:00:00.000000000 - Number of non-NaN NDVI values: 668569\n",
      "Date: 2017-05-30T00:00:00.000000000 - Number of non-NaN NDVI values: 440164\n",
      "Date: 2017-06-04T00:00:00.000000000 - Number of non-NaN NDVI values: 838649\n",
      "Date: 2017-06-09T00:00:00.000000000 - Number of non-NaN NDVI values: 400726\n",
      "Date: 2017-06-14T00:00:00.000000000 - Number of non-NaN NDVI values: 802162\n",
      "Date: 2017-06-19T00:00:00.000000000 - Number of non-NaN NDVI values: 576634\n",
      "Date: 2017-06-24T00:00:00.000000000 - Number of non-NaN NDVI values: 1064392\n",
      "Date: 2017-06-29T00:00:00.000000000 - Number of non-NaN NDVI values: 1396831\n",
      "Date: 2017-07-04T00:00:00.000000000 - Number of non-NaN NDVI values: 904167\n",
      "Date: 2017-07-09T00:00:00.000000000 - Number of non-NaN NDVI values: 1014362\n",
      "Date: 2017-07-14T00:00:00.000000000 - Number of non-NaN NDVI values: 1235566\n",
      "Date: 2017-07-19T00:00:00.000000000 - Number of non-NaN NDVI values: 1039258\n",
      "Date: 2017-07-24T00:00:00.000000000 - Number of non-NaN NDVI values: 801631\n",
      "Date: 2017-07-29T00:00:00.000000000 - Number of non-NaN NDVI values: 964584\n",
      "Date: 2017-08-03T00:00:00.000000000 - Number of non-NaN NDVI values: 711300\n",
      "Date: 2017-08-08T00:00:00.000000000 - Number of non-NaN NDVI values: 794347\n",
      "Date: 2017-08-13T00:00:00.000000000 - Number of non-NaN NDVI values: 980194\n",
      "Date: 2017-08-18T00:00:00.000000000 - Number of non-NaN NDVI values: 921815\n",
      "Date: 2017-08-23T00:00:00.000000000 - Number of non-NaN NDVI values: 1200440\n",
      "Date: 2017-08-28T00:00:00.000000000 - Number of non-NaN NDVI values: 625530\n",
      "Date: 2017-09-02T00:00:00.000000000 - Number of non-NaN NDVI values: 874742\n",
      "Date: 2017-09-07T00:00:00.000000000 - Number of non-NaN NDVI values: 1180835\n",
      "Date: 2017-09-12T00:00:00.000000000 - Number of non-NaN NDVI values: 1023301\n",
      "Date: 2017-09-17T00:00:00.000000000 - Number of non-NaN NDVI values: 265021\n",
      "Date: 2017-09-22T00:00:00.000000000 - Number of non-NaN NDVI values: 560183\n",
      "Date: 2017-09-27T00:00:00.000000000 - Number of non-NaN NDVI values: 971147\n",
      "Date: 2017-10-02T00:00:00.000000000 - Number of non-NaN NDVI values: 995119\n",
      "Date: 2017-10-07T00:00:00.000000000 - Number of non-NaN NDVI values: 1150902\n",
      "Date: 2017-10-12T00:00:00.000000000 - Number of non-NaN NDVI values: 983103\n",
      "Date: 2017-10-17T00:00:00.000000000 - Number of non-NaN NDVI values: 1193391\n",
      "Date: 2017-10-22T00:00:00.000000000 - Number of non-NaN NDVI values: 1383536\n",
      "Date: 2017-10-27T00:00:00.000000000 - Number of non-NaN NDVI values: 969612\n",
      "Date: 2017-11-01T00:00:00.000000000 - Number of non-NaN NDVI values: 869122\n",
      "Date: 2017-11-06T00:00:00.000000000 - Number of non-NaN NDVI values: 1040188\n",
      "Date: 2017-11-11T00:00:00.000000000 - Number of non-NaN NDVI values: 1093029\n",
      "Date: 2017-11-16T00:00:00.000000000 - Number of non-NaN NDVI values: 1307050\n",
      "Date: 2017-11-21T00:00:00.000000000 - Number of non-NaN NDVI values: 842467\n",
      "Date: 2017-11-26T00:00:00.000000000 - Number of non-NaN NDVI values: 1031091\n",
      "Date: 2017-12-01T00:00:00.000000000 - Number of non-NaN NDVI values: 700918\n",
      "Date: 2017-12-06T00:00:00.000000000 - Number of non-NaN NDVI values: 1223201\n",
      "Date: 2017-12-11T00:00:00.000000000 - Number of non-NaN NDVI values: 1007335\n",
      "Date: 2017-12-16T00:00:00.000000000 - Number of non-NaN NDVI values: 1116969\n",
      "Date: 2017-12-21T00:00:00.000000000 - Number of non-NaN NDVI values: 895879\n",
      "Date: 2017-12-26T00:00:00.000000000 - Number of non-NaN NDVI values: 1105935\n",
      "Date: 2017-12-31T00:00:00.000000000 - Number of non-NaN NDVI values: 640445\n",
      "Date: 2018-01-05T00:00:00.000000000 - Number of non-NaN NDVI values: 895603\n",
      "Date: 2018-01-10T00:00:00.000000000 - Number of non-NaN NDVI values: 1127206\n",
      "Date: 2018-01-15T00:00:00.000000000 - Number of non-NaN NDVI values: 838006\n",
      "Date: 2018-01-20T00:00:00.000000000 - Number of non-NaN NDVI values: 1196178\n",
      "Date: 2018-01-25T00:00:00.000000000 - Number of non-NaN NDVI values: 1099987\n",
      "Date: 2018-01-30T00:00:00.000000000 - Number of non-NaN NDVI values: 855080\n",
      "Date: 2018-02-04T00:00:00.000000000 - Number of non-NaN NDVI values: 1167105\n",
      "Date: 2018-02-09T00:00:00.000000000 - Number of non-NaN NDVI values: 1214804\n",
      "Date: 2018-02-14T00:00:00.000000000 - Number of non-NaN NDVI values: 1003651\n",
      "Date: 2018-02-19T00:00:00.000000000 - Number of non-NaN NDVI values: 1036841\n",
      "Date: 2018-02-24T00:00:00.000000000 - Number of non-NaN NDVI values: 1088853\n",
      "Date: 2018-03-01T00:00:00.000000000 - Number of non-NaN NDVI values: 1247952\n",
      "Date: 2018-03-06T00:00:00.000000000 - Number of non-NaN NDVI values: 1067825\n",
      "Date: 2018-03-11T00:00:00.000000000 - Number of non-NaN NDVI values: 1000610\n",
      "Date: 2018-03-16T00:00:00.000000000 - Number of non-NaN NDVI values: 1011396\n",
      "Date: 2018-03-21T00:00:00.000000000 - Number of non-NaN NDVI values: 753163\n",
      "Date: 2018-03-26T00:00:00.000000000 - Number of non-NaN NDVI values: 1265163\n",
      "Date: 2018-03-31T00:00:00.000000000 - Number of non-NaN NDVI values: 1265194\n",
      "Date: 2018-04-05T00:00:00.000000000 - Number of non-NaN NDVI values: 726434\n",
      "Date: 2018-04-10T00:00:00.000000000 - Number of non-NaN NDVI values: 1166807\n",
      "Date: 2018-04-15T00:00:00.000000000 - Number of non-NaN NDVI values: 1033506\n",
      "Date: 2018-04-20T00:00:00.000000000 - Number of non-NaN NDVI values: 1250892\n",
      "Date: 2018-04-25T00:00:00.000000000 - Number of non-NaN NDVI values: 1450697\n",
      "Date: 2018-04-30T00:00:00.000000000 - Number of non-NaN NDVI values: 1147316\n",
      "Date: 2018-05-05T00:00:00.000000000 - Number of non-NaN NDVI values: 1359881\n",
      "Date: 2018-05-10T00:00:00.000000000 - Number of non-NaN NDVI values: 1450309\n",
      "Date: 2018-05-15T00:00:00.000000000 - Number of non-NaN NDVI values: 1416305\n",
      "Date: 2018-05-20T00:00:00.000000000 - Number of non-NaN NDVI values: 1326400\n",
      "Date: 2018-05-25T00:00:00.000000000 - Number of non-NaN NDVI values: 1309329\n",
      "Date: 2018-05-30T00:00:00.000000000 - Number of non-NaN NDVI values: 1450126\n",
      "Date: 2018-06-04T00:00:00.000000000 - Number of non-NaN NDVI values: 1436022\n",
      "Date: 2018-06-09T00:00:00.000000000 - Number of non-NaN NDVI values: 1461019\n",
      "Date: 2018-06-14T00:00:00.000000000 - Number of non-NaN NDVI values: 1317819\n",
      "Date: 2018-06-19T00:00:00.000000000 - Number of non-NaN NDVI values: 1449900\n",
      "Date: 2018-06-24T00:00:00.000000000 - Number of non-NaN NDVI values: 1460091\n",
      "Date: 2018-06-29T00:00:00.000000000 - Number of non-NaN NDVI values: 1351880\n",
      "Date: 2018-07-04T00:00:00.000000000 - Number of non-NaN NDVI values: 1167428\n",
      "Date: 2018-07-09T00:00:00.000000000 - Number of non-NaN NDVI values: 1209222\n",
      "Date: 2018-07-14T00:00:00.000000000 - Number of non-NaN NDVI values: 1065911\n",
      "Date: 2018-07-19T00:00:00.000000000 - Number of non-NaN NDVI values: 1393458\n",
      "Date: 2018-07-24T00:00:00.000000000 - Number of non-NaN NDVI values: 1293343\n",
      "Date: 2018-07-29T00:00:00.000000000 - Number of non-NaN NDVI values: 1304142\n",
      "Date: 2018-08-03T00:00:00.000000000 - Number of non-NaN NDVI values: 1403274\n",
      "Date: 2018-08-08T00:00:00.000000000 - Number of non-NaN NDVI values: 1253138\n",
      "Date: 2018-08-13T00:00:00.000000000 - Number of non-NaN NDVI values: 1267069\n",
      "Date: 2018-08-18T00:00:00.000000000 - Number of non-NaN NDVI values: 1309457\n",
      "Date: 2018-08-23T00:00:00.000000000 - Number of non-NaN NDVI values: 1184789\n",
      "Date: 2018-08-28T00:00:00.000000000 - Number of non-NaN NDVI values: 1175814\n",
      "Date: 2018-09-02T00:00:00.000000000 - Number of non-NaN NDVI values: 1124725\n",
      "Date: 2018-09-07T00:00:00.000000000 - Number of non-NaN NDVI values: 1296429\n",
      "Date: 2018-09-12T00:00:00.000000000 - Number of non-NaN NDVI values: 1467258\n",
      "Date: 2018-09-17T00:00:00.000000000 - Number of non-NaN NDVI values: 1264949\n",
      "Date: 2018-09-22T00:00:00.000000000 - Number of non-NaN NDVI values: 1331015\n",
      "Date: 2018-09-27T00:00:00.000000000 - Number of non-NaN NDVI values: 1311157\n",
      "Date: 2018-10-02T00:00:00.000000000 - Number of non-NaN NDVI values: 877577\n",
      "Date: 2018-10-07T00:00:00.000000000 - Number of non-NaN NDVI values: 842026\n",
      "Date: 2018-10-12T00:00:00.000000000 - Number of non-NaN NDVI values: 946839\n",
      "Date: 2018-10-17T00:00:00.000000000 - Number of non-NaN NDVI values: 1086916\n",
      "Date: 2018-10-22T00:00:00.000000000 - Number of non-NaN NDVI values: 1290187\n",
      "Date: 2018-10-27T00:00:00.000000000 - Number of non-NaN NDVI values: 1201566\n",
      "Date: 2018-11-01T00:00:00.000000000 - Number of non-NaN NDVI values: 1211751\n",
      "Date: 2018-11-06T00:00:00.000000000 - Number of non-NaN NDVI values: 1391392\n",
      "Date: 2018-11-11T00:00:00.000000000 - Number of non-NaN NDVI values: 1180698\n",
      "Date: 2018-11-16T00:00:00.000000000 - Number of non-NaN NDVI values: 1206150\n",
      "Date: 2018-11-21T00:00:00.000000000 - Number of non-NaN NDVI values: 1219878\n",
      "Date: 2018-11-26T00:00:00.000000000 - Number of non-NaN NDVI values: 997135\n",
      "Date: 2018-12-01T00:00:00.000000000 - Number of non-NaN NDVI values: 913512\n",
      "Date: 2018-12-06T00:00:00.000000000 - Number of non-NaN NDVI values: 1109780\n",
      "Date: 2018-12-11T00:00:00.000000000 - Number of non-NaN NDVI values: 1284869\n",
      "Date: 2018-12-16T00:00:00.000000000 - Number of non-NaN NDVI values: 1276355\n",
      "Date: 2018-12-21T00:00:00.000000000 - Number of non-NaN NDVI values: 842122\n",
      "Date: 2018-12-26T00:00:00.000000000 - Number of non-NaN NDVI values: 1041945\n",
      "Date: 2018-12-31T00:00:00.000000000 - Number of non-NaN NDVI values: 1402546\n",
      "Date: 2019-01-05T00:00:00.000000000 - Number of non-NaN NDVI values: 766200\n",
      "Date: 2019-01-10T00:00:00.000000000 - Number of non-NaN NDVI values: 572778\n",
      "Date: 2019-01-15T00:00:00.000000000 - Number of non-NaN NDVI values: 1007771\n",
      "Date: 2019-01-20T00:00:00.000000000 - Number of non-NaN NDVI values: 1217585\n",
      "Date: 2019-01-25T00:00:00.000000000 - Number of non-NaN NDVI values: 1107193\n",
      "Date: 2019-01-30T00:00:00.000000000 - Number of non-NaN NDVI values: 1194286\n",
      "Date: 2019-02-04T00:00:00.000000000 - Number of non-NaN NDVI values: 989976\n",
      "Date: 2019-02-09T00:00:00.000000000 - Number of non-NaN NDVI values: 998637\n",
      "Date: 2019-02-14T00:00:00.000000000 - Number of non-NaN NDVI values: 489968\n",
      "Date: 2019-02-19T00:00:00.000000000 - Number of non-NaN NDVI values: 709547\n",
      "Date: 2019-02-24T00:00:00.000000000 - Number of non-NaN NDVI values: 900770\n",
      "Date: 2019-03-01T00:00:00.000000000 - Number of non-NaN NDVI values: 729155\n",
      "Date: 2019-03-06T00:00:00.000000000 - Number of non-NaN NDVI values: 824081\n",
      "Date: 2019-03-11T00:00:00.000000000 - Number of non-NaN NDVI values: 971608\n",
      "Date: 2019-03-16T00:00:00.000000000 - Number of non-NaN NDVI values: 1388846\n",
      "Date: 2019-03-21T00:00:00.000000000 - Number of non-NaN NDVI values: 809416\n",
      "Date: 2019-03-26T00:00:00.000000000 - Number of non-NaN NDVI values: 1224888\n",
      "Date: 2019-03-31T00:00:00.000000000 - Number of non-NaN NDVI values: 1188069\n",
      "Date: 2019-04-05T00:00:00.000000000 - Number of non-NaN NDVI values: 1323358\n",
      "Date: 2019-04-10T00:00:00.000000000 - Number of non-NaN NDVI values: 1162629\n",
      "Date: 2019-04-15T00:00:00.000000000 - Number of non-NaN NDVI values: 1192496\n",
      "Date: 2019-04-20T00:00:00.000000000 - Number of non-NaN NDVI values: 1152134\n",
      "Date: 2019-04-25T00:00:00.000000000 - Number of non-NaN NDVI values: 1308515\n",
      "Date: 2019-04-30T00:00:00.000000000 - Number of non-NaN NDVI values: 1377644\n",
      "Date: 2019-05-05T00:00:00.000000000 - Number of non-NaN NDVI values: 1063192\n",
      "Date: 2019-05-10T00:00:00.000000000 - Number of non-NaN NDVI values: 1331953\n",
      "Date: 2019-05-15T00:00:00.000000000 - Number of non-NaN NDVI values: 909097\n",
      "Date: 2019-05-20T00:00:00.000000000 - Number of non-NaN NDVI values: 896371\n",
      "Date: 2019-05-25T00:00:00.000000000 - Number of non-NaN NDVI values: 1216011\n",
      "Date: 2019-05-30T00:00:00.000000000 - Number of non-NaN NDVI values: 1294520\n",
      "Date: 2019-06-04T00:00:00.000000000 - Number of non-NaN NDVI values: 1499912\n",
      "Date: 2019-06-09T00:00:00.000000000 - Number of non-NaN NDVI values: 1300057\n",
      "Date: 2019-06-14T00:00:00.000000000 - Number of non-NaN NDVI values: 1476098\n",
      "Date: 2019-06-19T00:00:00.000000000 - Number of non-NaN NDVI values: 1486866\n",
      "Date: 2019-06-24T00:00:00.000000000 - Number of non-NaN NDVI values: 1466269\n",
      "Date: 2019-06-29T00:00:00.000000000 - Number of non-NaN NDVI values: 1393771\n",
      "Date: 2019-07-04T00:00:00.000000000 - Number of non-NaN NDVI values: 1408219\n",
      "Date: 2019-07-09T00:00:00.000000000 - Number of non-NaN NDVI values: 1527057\n",
      "Date: 2019-07-14T00:00:00.000000000 - Number of non-NaN NDVI values: 1275057\n",
      "Date: 2019-07-19T00:00:00.000000000 - Number of non-NaN NDVI values: 1279632\n",
      "Date: 2019-07-24T00:00:00.000000000 - Number of non-NaN NDVI values: 1302231\n",
      "Date: 2019-07-29T00:00:00.000000000 - Number of non-NaN NDVI values: 1304670\n",
      "Date: 2019-08-03T00:00:00.000000000 - Number of non-NaN NDVI values: 1193378\n",
      "Date: 2019-08-08T00:00:00.000000000 - Number of non-NaN NDVI values: 1208343\n",
      "Date: 2019-08-13T00:00:00.000000000 - Number of non-NaN NDVI values: 1463950\n",
      "Date: 2019-08-18T00:00:00.000000000 - Number of non-NaN NDVI values: 1440332\n",
      "Date: 2019-08-23T00:00:00.000000000 - Number of non-NaN NDVI values: 1417718\n",
      "Date: 2019-08-28T00:00:00.000000000 - Number of non-NaN NDVI values: 1319719\n",
      "Date: 2019-09-02T00:00:00.000000000 - Number of non-NaN NDVI values: 1367711\n",
      "Date: 2019-09-07T00:00:00.000000000 - Number of non-NaN NDVI values: 1224311\n",
      "Date: 2019-09-12T00:00:00.000000000 - Number of non-NaN NDVI values: 1270193\n",
      "Date: 2019-09-17T00:00:00.000000000 - Number of non-NaN NDVI values: 1275820\n",
      "Date: 2019-09-22T00:00:00.000000000 - Number of non-NaN NDVI values: 1532260\n",
      "Date: 2019-09-27T00:00:00.000000000 - Number of non-NaN NDVI values: 1266551\n",
      "Date: 2019-10-02T00:00:00.000000000 - Number of non-NaN NDVI values: 1370441\n",
      "Date: 2019-10-07T00:00:00.000000000 - Number of non-NaN NDVI values: 1414227\n",
      "Date: 2019-10-12T00:00:00.000000000 - Number of non-NaN NDVI values: 1533796\n",
      "Date: 2019-10-17T00:00:00.000000000 - Number of non-NaN NDVI values: 1475055\n",
      "Date: 2019-10-22T00:00:00.000000000 - Number of non-NaN NDVI values: 1372160\n",
      "Date: 2019-10-27T00:00:00.000000000 - Number of non-NaN NDVI values: 1337412\n",
      "Date: 2019-11-01T00:00:00.000000000 - Number of non-NaN NDVI values: 1430690\n",
      "Date: 2019-11-06T00:00:00.000000000 - Number of non-NaN NDVI values: 1202601\n",
      "Date: 2019-11-11T00:00:00.000000000 - Number of non-NaN NDVI values: 1178391\n",
      "Date: 2019-11-16T00:00:00.000000000 - Number of non-NaN NDVI values: 1068666\n",
      "Date: 2019-11-21T00:00:00.000000000 - Number of non-NaN NDVI values: 1107350\n",
      "Date: 2019-11-26T00:00:00.000000000 - Number of non-NaN NDVI values: 626652\n",
      "Date: 2019-12-01T00:00:00.000000000 - Number of non-NaN NDVI values: 1035307\n",
      "Date: 2019-12-06T00:00:00.000000000 - Number of non-NaN NDVI values: 839038\n",
      "Date: 2019-12-11T00:00:00.000000000 - Number of non-NaN NDVI values: 1140745\n",
      "Date: 2019-12-16T00:00:00.000000000 - Number of non-NaN NDVI values: 1264021\n",
      "Date: 2019-12-21T00:00:00.000000000 - Number of non-NaN NDVI values: 954351\n",
      "Date: 2019-12-26T00:00:00.000000000 - Number of non-NaN NDVI values: 1213662\n",
      "Date: 2019-12-31T00:00:00.000000000 - Number of non-NaN NDVI values: 1039856\n",
      "Date: 2020-01-05T00:00:00.000000000 - Number of non-NaN NDVI values: 1144339\n",
      "Date: 2020-01-10T00:00:00.000000000 - Number of non-NaN NDVI values: 1292090\n",
      "Date: 2020-01-15T00:00:00.000000000 - Number of non-NaN NDVI values: 910265\n",
      "Date: 2020-01-20T00:00:00.000000000 - Number of non-NaN NDVI values: 1120426\n",
      "Date: 2020-01-25T00:00:00.000000000 - Number of non-NaN NDVI values: 994905\n",
      "Date: 2020-01-30T00:00:00.000000000 - Number of non-NaN NDVI values: 1256509\n",
      "Date: 2020-02-04T00:00:00.000000000 - Number of non-NaN NDVI values: 1197279\n",
      "Date: 2020-02-09T00:00:00.000000000 - Number of non-NaN NDVI values: 1106574\n",
      "Date: 2020-02-14T00:00:00.000000000 - Number of non-NaN NDVI values: 1169250\n",
      "Date: 2020-02-19T00:00:00.000000000 - Number of non-NaN NDVI values: 854661\n",
      "Date: 2020-02-24T00:00:00.000000000 - Number of non-NaN NDVI values: 1367902\n",
      "Date: 2020-02-29T00:00:00.000000000 - Number of non-NaN NDVI values: 1191210\n",
      "Date: 2020-03-05T00:00:00.000000000 - Number of non-NaN NDVI values: 936542\n",
      "Date: 2020-03-10T00:00:00.000000000 - Number of non-NaN NDVI values: 664485\n",
      "Date: 2020-03-15T00:00:00.000000000 - Number of non-NaN NDVI values: 638823\n",
      "Date: 2020-03-20T00:00:00.000000000 - Number of non-NaN NDVI values: 893348\n",
      "Date: 2020-03-25T00:00:00.000000000 - Number of non-NaN NDVI values: 722596\n",
      "Date: 2020-03-30T00:00:00.000000000 - Number of non-NaN NDVI values: 1304162\n",
      "Date: 2020-04-04T00:00:00.000000000 - Number of non-NaN NDVI values: 1150964\n",
      "Date: 2020-04-09T00:00:00.000000000 - Number of non-NaN NDVI values: 830741\n",
      "Date: 2020-04-14T00:00:00.000000000 - Number of non-NaN NDVI values: 884877\n",
      "Date: 2020-04-19T00:00:00.000000000 - Number of non-NaN NDVI values: 1015297\n",
      "Date: 2020-04-24T00:00:00.000000000 - Number of non-NaN NDVI values: 1298293\n",
      "Date: 2020-04-29T00:00:00.000000000 - Number of non-NaN NDVI values: 1476600\n",
      "Date: 2020-05-04T00:00:00.000000000 - Number of non-NaN NDVI values: 1377043\n",
      "Date: 2020-05-09T00:00:00.000000000 - Number of non-NaN NDVI values: 1313016\n",
      "Date: 2020-05-14T00:00:00.000000000 - Number of non-NaN NDVI values: 1215302\n",
      "Date: 2020-05-19T00:00:00.000000000 - Number of non-NaN NDVI values: 1430985\n",
      "Date: 2020-05-24T00:00:00.000000000 - Number of non-NaN NDVI values: 1420325\n",
      "Date: 2020-05-29T00:00:00.000000000 - Number of non-NaN NDVI values: 1123239\n",
      "Date: 2020-06-03T00:00:00.000000000 - Number of non-NaN NDVI values: 1265310\n",
      "Date: 2020-06-08T00:00:00.000000000 - Number of non-NaN NDVI values: 1492647\n",
      "Date: 2020-06-13T00:00:00.000000000 - Number of non-NaN NDVI values: 1310120\n",
      "Date: 2020-06-18T00:00:00.000000000 - Number of non-NaN NDVI values: 1530476\n",
      "Date: 2020-06-23T00:00:00.000000000 - Number of non-NaN NDVI values: 1320043\n",
      "Date: 2020-06-28T00:00:00.000000000 - Number of non-NaN NDVI values: 1396954\n",
      "Date: 2020-07-03T00:00:00.000000000 - Number of non-NaN NDVI values: 1350658\n",
      "Date: 2020-07-08T00:00:00.000000000 - Number of non-NaN NDVI values: 1376557\n",
      "Date: 2020-07-13T00:00:00.000000000 - Number of non-NaN NDVI values: 1220621\n",
      "Date: 2020-07-18T00:00:00.000000000 - Number of non-NaN NDVI values: 1125643\n",
      "Date: 2020-07-23T00:00:00.000000000 - Number of non-NaN NDVI values: 953489\n",
      "Date: 2020-07-28T00:00:00.000000000 - Number of non-NaN NDVI values: 1419714\n",
      "Date: 2020-08-02T00:00:00.000000000 - Number of non-NaN NDVI values: 1421451\n",
      "Date: 2020-08-07T00:00:00.000000000 - Number of non-NaN NDVI values: 1328570\n",
      "Date: 2020-08-12T00:00:00.000000000 - Number of non-NaN NDVI values: 1309194\n",
      "Date: 2020-08-17T00:00:00.000000000 - Number of non-NaN NDVI values: 1359476\n",
      "Date: 2020-08-22T00:00:00.000000000 - Number of non-NaN NDVI values: 1393558\n",
      "Date: 2020-08-27T00:00:00.000000000 - Number of non-NaN NDVI values: 1336536\n",
      "Date: 2020-09-01T00:00:00.000000000 - Number of non-NaN NDVI values: 1426648\n",
      "Date: 2020-09-06T00:00:00.000000000 - Number of non-NaN NDVI values: 1178498\n",
      "Date: 2020-09-11T00:00:00.000000000 - Number of non-NaN NDVI values: 1284034\n",
      "Date: 2020-09-16T00:00:00.000000000 - Number of non-NaN NDVI values: 1338585\n",
      "Date: 2020-09-21T00:00:00.000000000 - Number of non-NaN NDVI values: 1427975\n",
      "Date: 2020-09-26T00:00:00.000000000 - Number of non-NaN NDVI values: 1398051\n",
      "Date: 2020-10-01T00:00:00.000000000 - Number of non-NaN NDVI values: 1322598\n",
      "Date: 2020-10-06T00:00:00.000000000 - Number of non-NaN NDVI values: 1301989\n",
      "Date: 2020-10-11T00:00:00.000000000 - Number of non-NaN NDVI values: 1450704\n",
      "Date: 2020-10-16T00:00:00.000000000 - Number of non-NaN NDVI values: 1411401\n",
      "Date: 2020-10-21T00:00:00.000000000 - Number of non-NaN NDVI values: 1209509\n",
      "Date: 2020-10-26T00:00:00.000000000 - Number of non-NaN NDVI values: 1298224\n",
      "Date: 2020-10-31T00:00:00.000000000 - Number of non-NaN NDVI values: 1208211\n",
      "Date: 2020-11-05T00:00:00.000000000 - Number of non-NaN NDVI values: 1077463\n",
      "Date: 2020-11-10T00:00:00.000000000 - Number of non-NaN NDVI values: 1332641\n",
      "Date: 2020-11-15T00:00:00.000000000 - Number of non-NaN NDVI values: 1238394\n",
      "Date: 2020-11-20T00:00:00.000000000 - Number of non-NaN NDVI values: 976203\n",
      "Date: 2020-11-25T00:00:00.000000000 - Number of non-NaN NDVI values: 1442804\n",
      "Date: 2020-11-30T00:00:00.000000000 - Number of non-NaN NDVI values: 1468960\n",
      "Date: 2020-12-05T00:00:00.000000000 - Number of non-NaN NDVI values: 1291332\n",
      "Date: 2020-12-10T00:00:00.000000000 - Number of non-NaN NDVI values: 783388\n",
      "Date: 2020-12-15T00:00:00.000000000 - Number of non-NaN NDVI values: 1309828\n",
      "Date: 2020-12-20T00:00:00.000000000 - Number of non-NaN NDVI values: 1267438\n",
      "Date: 2020-12-25T00:00:00.000000000 - Number of non-NaN NDVI values: 1025053\n",
      "Date: 2020-12-30T00:00:00.000000000 - Number of non-NaN NDVI values: 1428678\n",
      "Date: 2021-01-04T00:00:00.000000000 - Number of non-NaN NDVI values: 1354112\n",
      "Date: 2021-01-09T00:00:00.000000000 - Number of non-NaN NDVI values: 1294689\n",
      "Date: 2021-01-14T00:00:00.000000000 - Number of non-NaN NDVI values: 1265808\n",
      "Date: 2021-01-19T00:00:00.000000000 - Number of non-NaN NDVI values: 1047103\n",
      "Date: 2021-01-24T00:00:00.000000000 - Number of non-NaN NDVI values: 849325\n",
      "Date: 2021-01-29T00:00:00.000000000 - Number of non-NaN NDVI values: 1155481\n",
      "Date: 2021-02-03T00:00:00.000000000 - Number of non-NaN NDVI values: 1314973\n",
      "Date: 2021-02-08T00:00:00.000000000 - Number of non-NaN NDVI values: 1222713\n",
      "Date: 2021-02-13T00:00:00.000000000 - Number of non-NaN NDVI values: 655904\n",
      "Date: 2021-02-18T00:00:00.000000000 - Number of non-NaN NDVI values: 1278593\n",
      "Date: 2021-02-23T00:00:00.000000000 - Number of non-NaN NDVI values: 1235474\n",
      "Date: 2021-02-28T00:00:00.000000000 - Number of non-NaN NDVI values: 1326062\n",
      "Date: 2021-03-05T00:00:00.000000000 - Number of non-NaN NDVI values: 1105634\n",
      "Date: 2021-03-10T00:00:00.000000000 - Number of non-NaN NDVI values: 1051033\n",
      "Date: 2021-03-15T00:00:00.000000000 - Number of non-NaN NDVI values: 1129931\n",
      "Date: 2021-03-20T00:00:00.000000000 - Number of non-NaN NDVI values: 810931\n",
      "Date: 2021-03-25T00:00:00.000000000 - Number of non-NaN NDVI values: 1385991\n",
      "Date: 2021-03-30T00:00:00.000000000 - Number of non-NaN NDVI values: 1366627\n",
      "Date: 2021-04-04T00:00:00.000000000 - Number of non-NaN NDVI values: 1347199\n",
      "Date: 2021-04-09T00:00:00.000000000 - Number of non-NaN NDVI values: 1272275\n",
      "Date: 2021-04-14T00:00:00.000000000 - Number of non-NaN NDVI values: 1160426\n",
      "Date: 2021-04-19T00:00:00.000000000 - Number of non-NaN NDVI values: 1100122\n",
      "Date: 2021-04-24T00:00:00.000000000 - Number of non-NaN NDVI values: 1220997\n",
      "Date: 2021-04-29T00:00:00.000000000 - Number of non-NaN NDVI values: 1184735\n",
      "Date: 2021-05-04T00:00:00.000000000 - Number of non-NaN NDVI values: 1507479\n",
      "Date: 2021-05-09T00:00:00.000000000 - Number of non-NaN NDVI values: 1369440\n",
      "Date: 2021-05-14T00:00:00.000000000 - Number of non-NaN NDVI values: 1298532\n",
      "Date: 2021-05-19T00:00:00.000000000 - Number of non-NaN NDVI values: 1284081\n",
      "Date: 2021-05-24T00:00:00.000000000 - Number of non-NaN NDVI values: 1475327\n",
      "Date: 2021-05-29T00:00:00.000000000 - Number of non-NaN NDVI values: 1242700\n",
      "Date: 2021-06-03T00:00:00.000000000 - Number of non-NaN NDVI values: 1249449\n",
      "Date: 2021-06-08T00:00:00.000000000 - Number of non-NaN NDVI values: 1468316\n",
      "Date: 2021-06-13T00:00:00.000000000 - Number of non-NaN NDVI values: 1488158\n",
      "Date: 2021-06-18T00:00:00.000000000 - Number of non-NaN NDVI values: 1420875\n",
      "Date: 2021-06-23T00:00:00.000000000 - Number of non-NaN NDVI values: 938676\n",
      "Date: 2021-06-28T00:00:00.000000000 - Number of non-NaN NDVI values: 1108215\n",
      "Date: 2021-07-03T00:00:00.000000000 - Number of non-NaN NDVI values: 1325758\n",
      "Date: 2021-07-08T00:00:00.000000000 - Number of non-NaN NDVI values: 1397584\n",
      "Date: 2021-07-13T00:00:00.000000000 - Number of non-NaN NDVI values: 1312019\n",
      "Date: 2021-07-18T00:00:00.000000000 - Number of non-NaN NDVI values: 1160595\n",
      "Date: 2021-07-23T00:00:00.000000000 - Number of non-NaN NDVI values: 1072330\n",
      "Date: 2021-07-28T00:00:00.000000000 - Number of non-NaN NDVI values: 1233585\n",
      "Date: 2021-08-02T00:00:00.000000000 - Number of non-NaN NDVI values: 1425644\n",
      "Date: 2021-08-07T00:00:00.000000000 - Number of non-NaN NDVI values: 1189717\n",
      "Date: 2021-08-12T00:00:00.000000000 - Number of non-NaN NDVI values: 1130541\n",
      "Date: 2021-08-17T00:00:00.000000000 - Number of non-NaN NDVI values: 1244330\n",
      "Date: 2021-08-22T00:00:00.000000000 - Number of non-NaN NDVI values: 1429885\n",
      "Date: 2021-08-27T00:00:00.000000000 - Number of non-NaN NDVI values: 1400988\n",
      "Date: 2021-09-01T00:00:00.000000000 - Number of non-NaN NDVI values: 1235652\n",
      "Date: 2021-09-06T00:00:00.000000000 - Number of non-NaN NDVI values: 1490848\n",
      "Date: 2021-09-11T00:00:00.000000000 - Number of non-NaN NDVI values: 1309929\n",
      "Date: 2021-09-16T00:00:00.000000000 - Number of non-NaN NDVI values: 1493453\n",
      "Date: 2021-09-21T00:00:00.000000000 - Number of non-NaN NDVI values: 1352477\n",
      "Date: 2021-09-26T00:00:00.000000000 - Number of non-NaN NDVI values: 850782\n",
      "Date: 2021-10-01T00:00:00.000000000 - Number of non-NaN NDVI values: 1189767\n",
      "Date: 2021-10-06T00:00:00.000000000 - Number of non-NaN NDVI values: 946703\n",
      "Date: 2021-10-11T00:00:00.000000000 - Number of non-NaN NDVI values: 1308464\n",
      "Date: 2021-10-16T00:00:00.000000000 - Number of non-NaN NDVI values: 1324177\n",
      "Date: 2021-10-21T00:00:00.000000000 - Number of non-NaN NDVI values: 840014\n",
      "Date: 2021-10-26T00:00:00.000000000 - Number of non-NaN NDVI values: 1342931\n",
      "Date: 2021-10-31T00:00:00.000000000 - Number of non-NaN NDVI values: 1108334\n",
      "Date: 2021-11-05T00:00:00.000000000 - Number of non-NaN NDVI values: 1184649\n",
      "Date: 2021-11-10T00:00:00.000000000 - Number of non-NaN NDVI values: 1323340\n",
      "Date: 2021-11-15T00:00:00.000000000 - Number of non-NaN NDVI values: 1204549\n",
      "Date: 2021-11-20T00:00:00.000000000 - Number of non-NaN NDVI values: 704829\n",
      "Date: 2021-11-25T00:00:00.000000000 - Number of non-NaN NDVI values: 1371307\n",
      "Date: 2021-11-30T00:00:00.000000000 - Number of non-NaN NDVI values: 1298220\n",
      "Date: 2021-12-05T00:00:00.000000000 - Number of non-NaN NDVI values: 1085287\n",
      "Date: 2021-12-10T00:00:00.000000000 - Number of non-NaN NDVI values: 1110481\n",
      "Date: 2021-12-15T00:00:00.000000000 - Number of non-NaN NDVI values: 1208832\n",
      "Date: 2021-12-20T00:00:00.000000000 - Number of non-NaN NDVI values: 904836\n",
      "Date: 2021-12-25T00:00:00.000000000 - Number of non-NaN NDVI values: 574242\n",
      "Date: 2021-12-30T00:00:00.000000000 - Number of non-NaN NDVI values: 1169220\n",
      "Date: 2022-01-04T00:00:00.000000000 - Number of non-NaN NDVI values: 1189770\n",
      "Date: 2022-01-09T00:00:00.000000000 - Number of non-NaN NDVI values: 1309437\n",
      "Date: 2022-01-14T00:00:00.000000000 - Number of non-NaN NDVI values: 1278740\n",
      "Date: 2022-01-19T00:00:00.000000000 - Number of non-NaN NDVI values: 1296185\n",
      "Date: 2022-01-24T00:00:00.000000000 - Number of non-NaN NDVI values: 1404603\n",
      "Date: 2022-01-29T00:00:00.000000000 - Number of non-NaN NDVI values: 1021273\n",
      "Date: 2022-02-03T00:00:00.000000000 - Number of non-NaN NDVI values: 1339798\n",
      "Date: 2022-02-08T00:00:00.000000000 - Number of non-NaN NDVI values: 1361600\n",
      "Date: 2022-02-13T00:00:00.000000000 - Number of non-NaN NDVI values: 1395969\n",
      "Date: 2022-02-18T00:00:00.000000000 - Number of non-NaN NDVI values: 1226100\n",
      "Date: 2022-02-23T00:00:00.000000000 - Number of non-NaN NDVI values: 1288531\n",
      "Date: 2022-02-28T00:00:00.000000000 - Number of non-NaN NDVI values: 1384529\n",
      "Date: 2022-03-05T00:00:00.000000000 - Number of non-NaN NDVI values: 1035053\n",
      "Date: 2022-03-10T00:00:00.000000000 - Number of non-NaN NDVI values: 1245686\n",
      "Date: 2022-03-15T00:00:00.000000000 - Number of non-NaN NDVI values: 1231153\n",
      "Date: 2022-03-20T00:00:00.000000000 - Number of non-NaN NDVI values: 1341335\n",
      "Date: 2022-03-25T00:00:00.000000000 - Number of non-NaN NDVI values: 1199186\n",
      "Date: 2022-03-30T00:00:00.000000000 - Number of non-NaN NDVI values: 1186419\n",
      "Date: 2022-04-04T00:00:00.000000000 - Number of non-NaN NDVI values: 1534061\n",
      "Date: 2022-04-09T00:00:00.000000000 - Number of non-NaN NDVI values: 1214160\n",
      "Date: 2022-04-14T00:00:00.000000000 - Number of non-NaN NDVI values: 1230675\n",
      "Date: 2022-04-19T00:00:00.000000000 - Number of non-NaN NDVI values: 1014514\n",
      "Date: 2022-04-24T00:00:00.000000000 - Number of non-NaN NDVI values: 1256100\n",
      "Date: 2022-04-29T00:00:00.000000000 - Number of non-NaN NDVI values: 1460838\n",
      "Date: 2022-05-04T00:00:00.000000000 - Number of non-NaN NDVI values: 1197087\n",
      "Date: 2022-05-09T00:00:00.000000000 - Number of non-NaN NDVI values: 1476932\n",
      "Date: 2022-05-14T00:00:00.000000000 - Number of non-NaN NDVI values: 1490087\n",
      "Date: 2022-05-19T00:00:00.000000000 - Number of non-NaN NDVI values: 1262806\n",
      "Date: 2022-05-24T00:00:00.000000000 - Number of non-NaN NDVI values: 1448367\n",
      "Date: 2022-05-29T00:00:00.000000000 - Number of non-NaN NDVI values: 1476842\n",
      "Date: 2022-06-03T00:00:00.000000000 - Number of non-NaN NDVI values: 1192456\n",
      "Date: 2022-06-08T00:00:00.000000000 - Number of non-NaN NDVI values: 1402978\n",
      "Date: 2022-06-13T00:00:00.000000000 - Number of non-NaN NDVI values: 1453343\n",
      "Date: 2022-06-18T00:00:00.000000000 - Number of non-NaN NDVI values: 1217817\n",
      "Date: 2022-06-23T00:00:00.000000000 - Number of non-NaN NDVI values: 1181398\n",
      "Date: 2022-06-28T00:00:00.000000000 - Number of non-NaN NDVI values: 1409386\n",
      "Date: 2022-07-03T00:00:00.000000000 - Number of non-NaN NDVI values: 1307337\n",
      "Date: 2022-07-08T00:00:00.000000000 - Number of non-NaN NDVI values: 1471812\n",
      "Date: 2022-07-13T00:00:00.000000000 - Number of non-NaN NDVI values: 1392438\n",
      "Date: 2022-07-18T00:00:00.000000000 - Number of non-NaN NDVI values: 1367636\n",
      "Date: 2022-07-23T00:00:00.000000000 - Number of non-NaN NDVI values: 1298967\n",
      "Date: 2022-07-28T00:00:00.000000000 - Number of non-NaN NDVI values: 975686\n",
      "Date: 2022-08-02T00:00:00.000000000 - Number of non-NaN NDVI values: 1227866\n",
      "Date: 2022-08-07T00:00:00.000000000 - Number of non-NaN NDVI values: 1220408\n",
      "Date: 2022-08-12T00:00:00.000000000 - Number of non-NaN NDVI values: 1253823\n",
      "Date: 2022-08-17T00:00:00.000000000 - Number of non-NaN NDVI values: 971412\n",
      "Date: 2022-08-22T00:00:00.000000000 - Number of non-NaN NDVI values: 1262454\n",
      "Date: 2022-08-27T00:00:00.000000000 - Number of non-NaN NDVI values: 1391227\n",
      "Date: 2022-09-01T00:00:00.000000000 - Number of non-NaN NDVI values: 1434055\n",
      "Date: 2022-09-06T00:00:00.000000000 - Number of non-NaN NDVI values: 1347668\n",
      "Date: 2022-09-11T00:00:00.000000000 - Number of non-NaN NDVI values: 1164327\n",
      "Date: 2022-09-16T00:00:00.000000000 - Number of non-NaN NDVI values: 1358083\n",
      "Date: 2022-09-21T00:00:00.000000000 - Number of non-NaN NDVI values: 1160230\n",
      "Date: 2022-09-26T00:00:00.000000000 - Number of non-NaN NDVI values: 1369278\n",
      "Date: 2022-10-01T00:00:00.000000000 - Number of non-NaN NDVI values: 908823\n",
      "Date: 2022-10-06T00:00:00.000000000 - Number of non-NaN NDVI values: 954979\n"
     ]
    }
   ],
   "source": [
    "# Initialize a dictionary to store the results\n",
    "results = {}\n",
    "\n",
    "# Iterate over each .nc file and perform the calculations\n",
    "for nc_file in nc_files:\n",
    "    full_path = os.path.join(file_path, nc_file)\n",
    "    ds = xr.open_dataset(full_path)\n",
    "    \n",
    "    ndvi_data = ds['NDVI'].values  # Extract NDVI data\n",
    "    time_data = ds['time'].values  # Extract time data\n",
    "    \n",
    "    for i, time_step in enumerate(time_data):\n",
    "        # Count the number of non-NaN values for the current time step\n",
    "        non_nan_count = np.sum(~np.isnan(ndvi_data[i, ...]))\n",
    "        \n",
    "        # Convert timestamp to readable date format if necessary\n",
    "        if isinstance(time_step, np.datetime64):\n",
    "            time_step = str(time_step)\n",
    "        \n",
    "        # Store the results\n",
    "        if time_step in results:\n",
    "            results[time_step] += non_nan_count\n",
    "        else:\n",
    "            results[time_step] = non_nan_count\n",
    "\n",
    "# Output the results\n",
    "for time_step, non_nan_count in results.items():\n",
    "    print(f\"Date: {time_step} - Number of non-NaN NDVI values: {non_nan_count}\")\n"
   ]
  },
  {
   "cell_type": "markdown",
   "id": "31a20e5d-d8d8-47c6-8812-88f8134090ec",
   "metadata": {},
   "source": [
    "Additionally we plot the date of the first non-nan value occurrence of each pixel overall cubes. Most pixel's first non-nan value occurrence is on the 2017-01-15. And the latest occurrence is on the 2017-05-05. This might motivate us to use the 2017-05-05 as starting value for our training data time series. "
   ]
  },
  {
   "cell_type": "code",
   "execution_count": 49,
   "id": "17743855-ec60-412b-9dcc-5b9c7d7ad7ba",
   "metadata": {
    "tags": []
   },
   "outputs": [
    {
     "data": {
      "image/png": "[encoded data removed]",
      "text/plain": [
       "<Figure size 1200x600 with 1 Axes>"
      ]
     },
     "metadata": {},
     "output_type": "display_data"
    }
   ],
   "source": [
    "# List to store the first non-NaN time indices for all pixels\n",
    "first_non_nan_indices = []\n",
    "\n",
    "# Loop over all NetCDF files\n",
    "for nc_file in nc_files:\n",
    "    nc_path = os.path.join(file_path, nc_file)\n",
    "    \n",
    "    # Load the current NetCDF file\n",
    "    data = xr.open_dataset(nc_path)\n",
    "    ndvi_data = data['NDVI'].values\n",
    "    \n",
    "    # Get the size of the data\n",
    "    time_len, x_len, y_len = ndvi_data.shape\n",
    "    \n",
    "    # Find the first non-NaN time index for each pixel\n",
    "    for x in range(x_len):\n",
    "        for y in range(y_len):\n",
    "            first_non_nan_time_index = np.nan\n",
    "            for t in range(time_len):\n",
    "                if not np.isnan(ndvi_data[t, x, y]):\n",
    "                    first_non_nan_time_index = t\n",
    "                    break\n",
    "            first_non_nan_indices.append(first_non_nan_time_index)\n",
    "\n",
    "# Convert time indices to date values\n",
    "start_date = pd.Timestamp('2016-01-01')\n",
    "dates = [start_date + pd.Timedelta(days=int(index) * 5) for index in first_non_nan_indices if not np.isnan(index)]\n",
    "\n",
    "# Count occurrences of each date\n",
    "date_counts = pd.Series(dates).value_counts().sort_index()\n",
    "\n",
    "# Plot the distribution of first non-NaN dates as a bar plot\n",
    "plt.figure(figsize=(12, 6))\n",
    "plt.bar(date_counts.index, date_counts.values, edgecolor='black', alpha=0.7)\n",
    "plt.title('Distribution of First Non-NaN NDVI Dates for All Pixels')\n",
    "plt.xlabel('Date')\n",
    "plt.ylabel('Count of Pixels')\n",
    "plt.grid(True)\n",
    "\n",
    "plt.xticks(rotation=45)  # Rotate date labels for better readability\n",
    "plt.tight_layout()\n",
    "plt.show()"
   ]
  },
  {
   "cell_type": "code",
   "execution_count": 50,
   "id": "21849c6f-bb81-4c17-94c1-a5aae7e4d922",
   "metadata": {
    "tags": []
   },
   "outputs": [
    {
     "data": {
      "text/plain": [
       "Timestamp('2017-01-15 00:00:00')"
      ]
     },
     "execution_count": 50,
     "metadata": {},
     "output_type": "execute_result"
    }
   ],
   "source": [
    "# Calculate the median of the date values\n",
    "median_date_num = np.median([date.toordinal() for date in dates])\n",
    "median_date = pd.Timestamp.fromordinal(int(median_date_num))\n",
    "median_date"
   ]
  },
  {
   "cell_type": "code",
   "execution_count": 51,
   "id": "97954317-1744-4248-8b05-0fe97baa1249",
   "metadata": {
    "tags": []
   },
   "outputs": [
    {
     "data": {
      "text/plain": [
       "Timestamp('2017-05-05 00:00:00')"
      ]
     },
     "execution_count": 51,
     "metadata": {},
     "output_type": "execute_result"
    }
   ],
   "source": [
    "max(dates)"
   ]
  },
  {
   "cell_type": "markdown",
   "id": "c1e0cc0f-4a26-489d-9d42-19ac4a23499e",
   "metadata": {
    "tags": []
   },
   "source": [
    "Analyzing the distribution of non-NaN NDVI values over time reveals regular intervals during which fewer than 600,000 (of a possible 128 x 128 x 100 = 1,638,400 - so less than 40%) pixels show valid values for some measurement periods (every 5 days). This observation highlights the poor data quality and suggests that the prediction performance of our time series models will be significantly negatively affected by this substantial amount of missing data.\n",
    "\n",
    "However, we have chosen to start our analysis from July 2017, as the first period of missing data (< 600k valid pixel values) ends here, and the next three measurement dates contain more than 1,000,000 valid pixels. As depicted by the red LOESS trend line in the graph, the number of valid pixels reaches a higher and more consistent level starting from this point, except for some subsequent periods with a low number of valid pixel values, particularly at the end of 2018 and the beginning of 2019.\n",
    "\n",
    "Thus, we set our training period from July 4, 2017, to June 28, 2021, and the test period from July 3, 2021, to October 6, 2022. This ensures we have three complete seasonal cycles (apart from the periods with few data) available for training our models.\n"
   ]
  },
  {
   "cell_type": "code",
   "execution_count": 52,
   "id": "a8cff680-99ea-4acd-a994-df57556249dd",
   "metadata": {
    "tags": []
   },
   "outputs": [
    {
     "data": {
      "image/png": "[encoded data removed]",
      "text/plain": [
       "<Figure size 1000x600 with 1 Axes>"
      ]
     },
     "metadata": {},
     "output_type": "display_data"
    }
   ],
   "source": [
    "import matplotlib.dates as mdates\n",
    "import statsmodels.api as sm\n",
    "\n",
    "# Extract data for plotting\n",
    "dates = list(results.keys())\n",
    "non_nan_counts = list(results.values())\n",
    "\n",
    "# Convert dates to a readable format if they are in string format\n",
    "if isinstance(dates[0], str):\n",
    "    dates = [np.datetime64(date) for date in dates]\n",
    "\n",
    "# Convert dates to a numeric format for LOESS\n",
    "numeric_dates = mdates.date2num(dates)\n",
    "\n",
    "# Fit LOESS model\n",
    "loess = sm.nonparametric.lowess(non_nan_counts, numeric_dates, frac=0.1)\n",
    "\n",
    "# Plot the results as a histogram and a LOESS smoothed line\n",
    "plt.figure(figsize=(10, 6))\n",
    "plt.bar(dates, non_nan_counts, alpha=0.6, label='Non-NaN NDVI values')\n",
    "plt.plot(dates, loess[:, 1], color='red', linewidth=2, linestyle='--', alpha=0.7, label='LOESS trend')\n",
    "\n",
    "plt.xlabel('Time')\n",
    "plt.ylabel('Number of non-NaN NDVI values')\n",
    "plt.title('Number of non-NaN NDVI values over time')\n",
    "plt.xticks(rotation=45)\n",
    "plt.grid(True)\n",
    "\n",
    "# Set x-axis to display quarterly ticks\n",
    "ax = plt.gca()\n",
    "ax.xaxis.set_major_locator(mdates.MonthLocator(interval=3))  # Set major ticks to every 3 months (quarterly)\n",
    "ax.xaxis.set_major_formatter(mdates.DateFormatter('%m %Y'))  # Format the ticks to show the month and year\n",
    "\n",
    "# Set y-axis lower bound to 500,000\n",
    "plt.ylim(bottom=500000)\n",
    "\n",
    "plt.xticks(rotation=45)  # Rotate date labels for better readability\n",
    "plt.tight_layout()\n",
    "plt.legend()\n",
    "plt.show()\n"
   ]
  },
  {
   "cell_type": "markdown",
   "id": "e7605c82-510c-4bb4-8031-3dda860df544",
   "metadata": {},
   "source": [
    "#### Perform Train and Test Split\n",
    "In this step, we will split the time series data into separate train and test datasets for each cube."
   ]
  },
  {
   "cell_type": "code",
   "execution_count": 53,
   "id": "c814b240-f626-4ceb-8bd7-08f456892009",
   "metadata": {
    "tags": []
   },
   "outputs": [],
   "source": [
    "# Define Output directories\n",
    "output_folder_train = base_dir / \"data\" / \"data_train\"\n",
    "output_folder_test = base_dir / \"data\" / \"data_test\""
   ]
  },
  {
   "cell_type": "code",
   "execution_count": null,
   "id": "e0f33a32-36b0-438d-9a07-88fae861b545",
   "metadata": {
    "tags": []
   },
   "outputs": [],
   "source": [
    "# Perform Train-Test Split and Save in Separate Files\n",
    "for idx, nc_file in enumerate(nc_files, start=1):\n",
    "    full_path = os.path.join(file_path, nc_file)\n",
    "    \n",
    "    # Load the NetCDF file\n",
    "    dataset = xr.open_dataset(full_path)\n",
    "    \n",
    "    # Train-Test Split\n",
    "    train_data = dataset.sel(time=slice('2017-07-04', '2021-06-28'))\n",
    "    test_data = dataset.sel(time=slice('2021-07-03', '2022-10-06'))\n",
    "    \n",
    "    # Generate the new filenames and full paths for the output files\n",
    "    base_filename = os.path.splitext(os.path.basename(nc_file))[0]  # Remove the .nc extension\n",
    "    train_filename = os.path.join(output_folder_train, f'{base_filename}_train.nc')\n",
    "    test_filename = os.path.join(output_folder_test, f'{base_filename}_test.nc')\n",
    "\n",
    "    # Save Train and Test Data\n",
    "    train_data.to_netcdf(train_filename)\n",
    "    test_data.to_netcdf(test_filename)\n",
    " \n",
    "    print(f\"[{idx}/{len(nc_files)}] Train and test datasets saved for {os.path.basename(nc_file)}\")\n"
   ]
  },
  {
   "cell_type": "markdown",
   "id": "3d3f9637-4054-488f-a7a2-9b4ad1c833d9",
   "metadata": {},
   "source": [
    "### Prepare Data for Final Training\n",
    "\n",
    "Given the significant number of NaN values in our dataset and time series, we have decided to implement two distinct approaches to effectively handle these missing values.\n",
    "\n",
    "**Approach A: Handling NaNs with Outliers and Cloud Mask Integration**\n",
    "\n",
    "1. **Replace NaNs with an Outlier:**\n",
    "   - We will replace NaN values with a clearly identifiable outlier value (e.g., -9999.0). This allows the model to recognize and handle these outliers during training.\n",
    "\n",
    "2. **Use Cloud Mask as an Exogenous Feature:**\n",
    "   - In addition, we will incorporate the cloud mask as an exogenous feature in our model. This helps the model learn the relationship between cloud coverage (as indicated by the cloud mask for a specific pixel during a specific time period) and the outlier value (-9999.0). This way, the model can understand that the -9999.0 value is likely due to cloud presence, improving its ability to make accurate predictions despite these outliers.\n",
    "\n",
    "**Approach B: Interpolation with STL Decomposition**\n",
    "\n",
    "1. **STL Interpolation:**\n",
    "   - In this approach, we will use Seasonal-Trend decomposition using Loess (STL) to interpolate NaN values. STL decomposes the time series into seasonal, trend, and residual components, allowing for a more nuanced interpolation of missing values.\n",
    "\n",
    "2. **Why Use STL Interpolation:**\n",
    "\n",
    "   - **Captures Seasonal and Trend Components:**\n",
    "     - STL is particularly effective for time series data with strong seasonal and trend components, which is the case for our NDVI data. By decomposing the data, STL can accurately interpolate missing values by considering the underlying seasonal patterns and long-term trends.\n",
    "\n",
    "   - **Robust to Outliers:**\n",
    "     - STL is robust to outliers and can provide a more reliable interpolation compared to simpler methods, which might be biased by irregularities in the data.\n",
    "\n",
    "   - **Flexible and Adaptable:**\n",
    "     - STL is flexible and can handle a wide range of time series characteristics, making it a versatile choice for our dataset with its complex patterns and missing values.\n"
   ]
  },
  {
   "cell_type": "markdown",
   "id": "d2357373-3a5d-4ff9-8a9e-f2b785758499",
   "metadata": {},
   "source": [
    "#### Prepare data for Approach A:"
   ]
  },
  {
   "cell_type": "code",
   "execution_count": 55,
   "id": "798e657d-0dcb-424d-be5d-c13e6f8d32f9",
   "metadata": {
    "tags": []
   },
   "outputs": [],
   "source": [
    "# Define input and output dirs\n",
    "file_path = base_dir / \"data\" / \"data_train\"\n",
    "output_path = base_dir / \"data\" / \"data_A_9999\""
   ]
  },
  {
   "cell_type": "code",
   "execution_count": null,
   "id": "e4a5c7d7-2f8a-479c-a385-a3b84b5e66d9",
   "metadata": {
    "tags": []
   },
   "outputs": [],
   "source": [
    "nc_files = [os.path.join(file_path, f) for f in os.listdir(file_path) if f.endswith('.nc')]\n",
    "\n",
    "# Iterate over each .nc file and replace NaNs in the NDVI variable with -9999\n",
    "for idx, nc_file in enumerate(nc_files, start=1):\n",
    "    # Load the NetCDF file\n",
    "    dataset = xr.open_dataset(nc_file)\n",
    "    \n",
    "    # Replace NaNs in the NDVI variable with -9999\n",
    "    dataset['NDVI'] = dataset['NDVI'].fillna(-9999)\n",
    "    \n",
    "    # Generate the new filename and the full path for the output file\n",
    "    output_file = os.path.join(output_path, f'ds_A_{os.path.basename(nc_file)}')\n",
    "    \n",
    "    # Save the modified dataset\n",
    "    dataset.to_netcdf(output_file)\n",
    "    \n",
    "    print(f\"[{idx}/{len(nc_files)}] Cube: {os.path.basename(nc_file)} | NaNs replaced and saved\")\n"
   ]
  },
  {
   "cell_type": "markdown",
   "id": "716ccd2e-8f36-435a-9b54-63e012da297c",
   "metadata": {
    "tags": []
   },
   "source": [
    "#### Prepare data for Approach B:\n",
    "STL Interpolation"
   ]
  },
  {
   "cell_type": "code",
   "execution_count": 57,
   "id": "5a92ca6e-200b-455a-b3d8-0e9404d8a1d9",
   "metadata": {
    "tags": []
   },
   "outputs": [],
   "source": [
    "# Paths to the directory containing the NetCDF files\n",
    "file_path = base_dir / \"data\" / \"data_train\"\n",
    "output_path = base_dir / \"data\" / \"data_B_interpolated\"\n",
    "os.makedirs(output_path, exist_ok=True)"
   ]
  },
  {
   "cell_type": "code",
   "execution_count": null,
   "id": "dbc61a0c-8997-4241-82e9-42bb00eff29a",
   "metadata": {
    "tags": []
   },
   "outputs": [],
   "source": [
    "# List all NetCDF files in the input directory\n",
    "nc_files = [f for f in os.listdir(file_path) if f.endswith('.nc')]\n",
    "\n",
    "# Iterate over each file\n",
    "for nc_file in nc_files:\n",
    "    full_path = os.path.join(file_path, nc_file)\n",
    "    ds = xr.open_dataset(full_path)\n",
    "    \n",
    "    interpolated_data = []\n",
    "    \n",
    "    # Iterate over each pixel and apply STL interpolation\n",
    "    for x in ds.x:\n",
    "        for y in ds.y:\n",
    "            ndvi_pixel = ds['NDVI'].sel(x=x, y=y)\n",
    "            if ndvi_pixel.isnull().all():\n",
    "                # print(f\"Pixel (x={x}, y={y}) contains only NaNs and will be skipped.\")\n",
    "                interpolated_data.append(np.full(ndvi_pixel.shape, np.nan))  # Append NaN array\n",
    "            else:\n",
    "                interpolated_ndvi = stl_interpolate(ndvi_pixel)\n",
    "                interpolated_data.append(interpolated_ndvi.values)\n",
    "    \n",
    "    # Reshape the interpolated data to match the original dimensions\n",
    "    interpolated_ndvi_array = np.array(interpolated_data).reshape((ds.sizes['x'], ds.sizes['y'], ds.sizes['time'])).transpose(2, 0, 1)\n",
    "    \n",
    "    # Create a new DataArray with the interpolated NDVI values\n",
    "    interpolated_da = xr.DataArray(interpolated_ndvi_array, coords=[ds.time, ds.x, ds.y], dims=['time', 'x', 'y'], name='NDVI')\n",
    "    \n",
    "    # Create a new Dataset with the interpolated NDVI values and original attributes\n",
    "    new_ds = xr.Dataset({'NDVI': interpolated_da, 'Cloud_Mask': ds['Cloud_Mask']}, coords=ds.coords, attrs=ds.attrs)\n",
    "    \n",
    "    # Save the new dataset to a NetCDF file\n",
    "    output_file = os.path.join(output_path,  f'ds_B_{os.path.basename(nc_file)}')\n",
    "    new_ds.to_netcdf(output_file)\n",
    "    \n",
    "    print(f\"Interpolated file saved: {output_file}\")"
   ]
  },
  {
   "cell_type": "markdown",
   "id": "a3d372d5-5d9d-42dc-8f52-e6a370140d23",
   "metadata": {},
   "source": [
    "## Challenges in Data Preparation\n",
    "\n",
    "The data preparation process was extremely time-consuming and challenging. This notebook is the final result of various approaches, ideas, and steps. A significant portion of our work involved experimenting with different strategies which do not appear in this notebook as they did not work out. We encountered several key challenges:\n",
    "\n",
    "1. **Data Volume:** Initially, we started with approximately 5000 cubes. However, executing some steps, such as the initial NDVI calculation based on Sentinel-2 data, was infeasible due to limited computing power, leading to frequent process failures. Consequently, we reduced the dataset to 100 cubes, selecting those with the fewest missing values. Despite this reduction, many steps, like interpolating missing values, were time-intensive and often failed due to memory constraints, prolonging our work.\n",
    "\n",
    "2. **Data Format:** None of us had prior experience with DataCubes, requiring time to understand the data format and how it was stored and loaded (see `src/data_processing/my_loader.py`). The lack of proper documentation for the DataLoader and MiniCubes meant we had to rely heavily on trial and error to correctly load the data in the desired format.\n",
    "\n",
    "3. **Data Quality and Missing Data:** The dataset contained many missing values, attributed to Sentinel-2 data periods with missing band values and pixels masked by the cloud mask. After deliberation, we decided to exclude the entire year 2016 due to its extensive missing values, despite metadata indicating the measurement period started on January 1, 2016. Further investigation revealed periodic intervals with few valid pixel values, detrimental to time series prediction and definitely will negatively impact our models' predictive performance. To address missing values, we tested two approaches:\n",
    "   - **Setting Missing Values to an Outlier:** Assigning missing values an extreme outlier value of -9999.0 (valid NDVI range: -1.0 to 1.0) and including the cloud mask as an exogenous factor to help the model learn the relationship between cloud presence and outliers. However the presence of clouds is not the only cause for missing values. They also occur without cloud indications.\n",
    "   - **Interpolation of Missing Values:** Using STL decomposition for interpolation, specifically suitable for our data. This method was computationally and time-intensive. To avoid backward fill interpolation and accurately interpolate missing values, we restricted the time period to start from a point with relatively many valid pixels (July 4, 2017). Additionally, we decided to interpolate missing values only in the training data and evaluate model performance using actual test data (predicted vs. true test data), ignoring missing values in the test data to avoid distorting the evaluation metrics further.\n"
   ]
  },
  {
   "cell_type": "markdown",
   "id": "57ee1494-18e7-4a48-b96d-9afaa825663f",
   "metadata": {},
   "source": [
    "## Challenges in Modelling\n",
    "\n",
    "During the process of building the models, we encountered several problems. \n",
    "\n",
    "1. **Data for approach A**\n",
    "\n",
    "    Procedure for the LSTM model:\n",
    "\n",
    "    After the model was created and the predictions were made, the data was denormalized. When looking at the results, we noticed that all prediction results were disproportionately high (> 0.99). Due to the natural range of the NDVI from -1 to 1 and studying the baseline data, we concluded that the results are illogical and must be incorrect.\n",
    "    Unfortunately, due to the limited time and the long processing times of the code, we were ultimately unable to determine the exact cause and find an appropriate solution. It is possible that the masking of the -9999 values did not work correctly, so that the -9999 values were regarded as “normal” values by the model. Incorrect normalization could also have been a possible reason.\n",
    "\n",
    "    Due to the comparability, we then decided to completely exclude this data set for all models from our project. \n",
    "\n",
    "2. **Reducing Cubes: complete cubes**\n",
    "   \n",
    "   Furthermore, our initial aim was to use all 100 cubes for our project. This quickly proved to be impossible with the memory and computing power available to us. Despite the use of GPU, only very few cubes could be processed. We therefore had to reduce our data basis to 4 cubes. We sorted the 100 cubes in descending order of completeness. Complete means that the cube contains as few pixels as possible that contain NaN values across all timesteps. The 4 best cubes are therefore the following:\n",
    "    1. Cube 665 \n",
    "    2. Cube 80\n",
    "    3. Cube 1203\n",
    "    4. Cube 1301\n",
    "\n",
    "3. **Trees in Random Forest**\n",
    "    \n",
    "    As with the other models, the Random Forest model also has considerable difficulties with processing time and memory capacity. Therefore, we were unfortunately not able to use more than one cube for the model. "
   ]
  },
  {
   "cell_type": "code",
   "execution_count": null,
   "id": "71fc7035-a460-425e-a64d-9d316710c623",
   "metadata": {},
   "outputs": [],
   "source": []
  }
 ],
 "metadata": {
  "kernelspec": {
   "display_name": "Python 3 (ipykernel)",
   "language": "python",
   "name": "python3"
  },
  "language_info": {
   "codemirror_mode": {
    "name": "ipython",
    "version": 3
   },
   "file_extension": ".py",
   "mimetype": "text/x-python",
   "name": "python",
   "nbconvert_exporter": "python",
   "pygments_lexer": "ipython3",
   "version": "3.11.8"
  }
 },
 "nbformat": 4,
 "nbformat_minor": 5
}
