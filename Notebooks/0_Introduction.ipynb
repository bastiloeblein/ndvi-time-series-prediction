{
 "cells": [
  {
   "cell_type": "markdown",
   "id": "16062d0e-5faf-47b7-8cf8-a29d5cafe289",
   "metadata": {},
   "source": [
    "# Introduction and Motivation\n",
    "\n",
    "Vegetation plays a pivotal role in the Earth's ecosystem. Healthy vegetation is a fundamental part of a equable ecosystem that is characterized by a high biodiversity and different ecosystem services [@Cardinale2012].  \n",
    "Understanding and predicting the changes in vegetation are crucial for addressing climate change [@Bonan2008].\n",
    "\n",
    "The Normalized Difference Vegetation Index (NDVI) as a key vegetation index is used to monitor the health and vitality of vegetation. It can also provide information on biomass production in the context of the carbon cycle. Various vegetation properties can be estimated such as biomass, chlorophyll concentration in leaves, plant productivity, fractional vegetation cover, and plant stress [@Huang2020]. To detect shifting trends of growing seasons or in vegetation activity, long-term analyzes of NDVI data are useful [@Higgins2023}.\n",
    "\n",
    "These trends and changes can be analyzed with remote sensing time series data [@Wang2016].\n",
    "As satellite data represents spectral reflectance patterns of vegetation, it can be transferred in various vegetation indices [@Reddy2018, @Wang2016]. Those vegetation indices help to estimate seasonal dynamics in the vegetation phenology and thereby give us information about the health conditions of vegetation [@Wang2016]. \n",
    "\n",
    "Several models have been implemented for NDVI prediction, including statistical models, machine learning models, and deep learning models. In this project, our aim is to compare three different models for calculating ndvi predictions from time series data. We decided to use the Seasonal Autoregressive Integrated Moving Average model (SARIMA), the Random Forest model and a Long Short-Term Memory Network.\n",
    "Thus, our research question will be \"*How do SARIMA, Random Forest, and LSTM models compare in predicting the Normalized Difference Vegetation Index (NDVI) using Sentinel-2 mini cubes data?*\".\n",
    "\n",
    "## Methods \n",
    "\n",
    "SARIMA is a linear model with memory. It is widely used due to their simplicity and interpretability, because it captures temporal dependencies linearly [@shumway2017arima]. \n",
    "Random Forest is a nonlinear model without memory. These models have shown improved performance by handling non-linearities better and being more robust against overfitting [@breiman2001random].\n",
    "LSTM as a nonlinear model with memory, can learn temporal patterns and nonlinear relationships. These deep learning models have demonstrated superior performance in NDVI prediction due to their ability to model intricate temporal dependencies [@cavalli2021machine].\n",
    "\n",
    "## Data\n",
    "\n",
    "In Earth System Science, Earth System Data Cubes are becoming more important as a data source. Their interdisciplinary nature support data-intensive analyzes on a global scale [@Mahecha2020]. As a special type, minicubes have a higher spatiotemporal resolution compared to global data cubes. Thus, their spatial resolution is smaller [@Montero2023]. For analyzes of small areas, minicubes may be preferable. They offer enhanced detail accuracy and resolution, ranging from sub-meters to meters. This makes it possible to monitor local vegetation changes. Depending on the project, working with minicubes enable to overcome storage and memory limitations. They can be processed into smaller and manageable subsets, allowing more effective sampling strategies [@MonteroLoaiza2023].\n",
    "\n",
    "Detailed information about the Minicubes will be shown in the Chapter 1_Data_Preprocessing.\n",
    "\n"
   ]
  },
  {
   "cell_type": "code",
   "execution_count": null,
   "id": "24d371e4-5eac-4166-9eff-99753e220c06",
   "metadata": {},
   "outputs": [],
   "source": []
  }
 ],
 "metadata": {
  "kernelspec": {
   "display_name": "scwenv",
   "language": "python",
   "name": "scwenv"
  },
  "language_info": {
   "codemirror_mode": {
    "name": "ipython",
    "version": 3
   },
   "file_extension": ".py",
   "mimetype": "text/x-python",
   "name": "python",
   "nbconvert_exporter": "python",
   "pygments_lexer": "ipython3",
   "version": "3.12.3"
  }
 },
 "nbformat": 4,
 "nbformat_minor": 5
}
